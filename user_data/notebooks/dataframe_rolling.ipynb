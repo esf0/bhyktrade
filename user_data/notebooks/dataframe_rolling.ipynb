{
 "cells": [
  {
   "cell_type": "markdown",
   "source": [
    "# Algorithm for detect wave\n",
    "\n",
    "1. We need MACD, open, close\n",
    "2. Looking where MACD change sign (two points begin and end of wave). Backward in time\n",
    "3. Looking only for negative waves\n",
    "4. Stop searching after n_waves (for example 3)\n",
    "5. Inside wave we know the value of the lowes price and the lowest MACD\n",
    "6. Check if:\n",
    "6.1 For new wave price has to be lower. Previous value multiplied by coefficient\n",
    "6.2 For new wave MACD value hat to be bigger (less in absolute). Previous value multiplied by coefficient\n",
    "7."
   ],
   "metadata": {
    "collapsed": false
   }
  },
  {
   "cell_type": "code",
   "execution_count": 1,
   "metadata": {
    "collapsed": true
   },
   "outputs": [],
   "source": [
    "import pandas as pd\n",
    "import numpy as np\n",
    "from datetime import datetime\n",
    "import talib.abstract as ta\n",
    "import numba"
   ]
  },
  {
   "cell_type": "code",
   "execution_count": 2,
   "outputs": [],
   "source": [
    "columns=['date', 'open', 'high', 'low', 'close','volume']\n",
    "df_json = pd.read_json(\"../data/binance/ALGO_USDT-1m.json\")\n",
    "\n",
    "# time open high low close volume\n",
    "df_json.columns = columns"
   ],
   "metadata": {
    "collapsed": false
   }
  },
  {
   "cell_type": "code",
   "execution_count": 3,
   "outputs": [],
   "source": [
    "# macd = ta.MACD(df_json, fastperiod=7, slowperiod=15 , signalperiod=7)\n",
    "macd = ta.MACD(df_json)\n",
    "df_json['macdhist'] = macd['macdhist']\n",
    "df_json['low_value'] = df_json[['open', 'close']].min(axis = 1)"
   ],
   "metadata": {
    "collapsed": false
   }
  },
  {
   "cell_type": "code",
   "execution_count": 6,
   "outputs": [
    {
     "name": "stdout",
     "output_type": "stream",
     "text": [
      "918006 21.25013888888889\n"
     ]
    },
    {
     "data": {
      "text/plain": "                 date    open    high     low   close     volume  macdhist  \\\n0       1609804800000  0.4465  0.4507  0.4463  0.4500  667946.65       NaN   \n1       1609804860000  0.4496  0.4530  0.4435  0.4467  499775.21       NaN   \n2       1609804920000  0.4471  0.4492  0.4455  0.4464  290446.52       NaN   \n3       1609804980000  0.4460  0.4475  0.4424  0.4464  324858.12       NaN   \n4       1609805040000  0.4466  0.4550  0.4445  0.4537  421508.95       NaN   \n...               ...     ...     ...     ...     ...        ...       ...   \n918001  1664944440000  0.3525  0.3525  0.3524  0.3525    5655.00 -0.000060   \n918002  1664944500000  0.3524  0.3525  0.3524  0.3525    3878.00 -0.000047   \n918003  1664944560000  0.3525  0.3526  0.3525  0.3526   18512.00 -0.000027   \n918004  1664944620000  0.3527  0.3528  0.3527  0.3527    3693.00 -0.000005   \n918005  1664944680000  0.3527  0.3527  0.3526  0.3526     111.00  0.000005   \n\n        low_value  \n0          0.4465  \n1          0.4467  \n2          0.4464  \n3          0.4460  \n4          0.4466  \n...           ...  \n918001     0.3525  \n918002     0.3524  \n918003     0.3525  \n918004     0.3527  \n918005     0.3526  \n\n[918006 rows x 8 columns]",
      "text/html": "<div>\n<style scoped>\n    .dataframe tbody tr th:only-of-type {\n        vertical-align: middle;\n    }\n\n    .dataframe tbody tr th {\n        vertical-align: top;\n    }\n\n    .dataframe thead th {\n        text-align: right;\n    }\n</style>\n<table border=\"1\" class=\"dataframe\">\n  <thead>\n    <tr style=\"text-align: right;\">\n      <th></th>\n      <th>date</th>\n      <th>open</th>\n      <th>high</th>\n      <th>low</th>\n      <th>close</th>\n      <th>volume</th>\n      <th>macdhist</th>\n      <th>low_value</th>\n    </tr>\n  </thead>\n  <tbody>\n    <tr>\n      <th>0</th>\n      <td>1609804800000</td>\n      <td>0.4465</td>\n      <td>0.4507</td>\n      <td>0.4463</td>\n      <td>0.4500</td>\n      <td>667946.65</td>\n      <td>NaN</td>\n      <td>0.4465</td>\n    </tr>\n    <tr>\n      <th>1</th>\n      <td>1609804860000</td>\n      <td>0.4496</td>\n      <td>0.4530</td>\n      <td>0.4435</td>\n      <td>0.4467</td>\n      <td>499775.21</td>\n      <td>NaN</td>\n      <td>0.4467</td>\n    </tr>\n    <tr>\n      <th>2</th>\n      <td>1609804920000</td>\n      <td>0.4471</td>\n      <td>0.4492</td>\n      <td>0.4455</td>\n      <td>0.4464</td>\n      <td>290446.52</td>\n      <td>NaN</td>\n      <td>0.4464</td>\n    </tr>\n    <tr>\n      <th>3</th>\n      <td>1609804980000</td>\n      <td>0.4460</td>\n      <td>0.4475</td>\n      <td>0.4424</td>\n      <td>0.4464</td>\n      <td>324858.12</td>\n      <td>NaN</td>\n      <td>0.4460</td>\n    </tr>\n    <tr>\n      <th>4</th>\n      <td>1609805040000</td>\n      <td>0.4466</td>\n      <td>0.4550</td>\n      <td>0.4445</td>\n      <td>0.4537</td>\n      <td>421508.95</td>\n      <td>NaN</td>\n      <td>0.4466</td>\n    </tr>\n    <tr>\n      <th>...</th>\n      <td>...</td>\n      <td>...</td>\n      <td>...</td>\n      <td>...</td>\n      <td>...</td>\n      <td>...</td>\n      <td>...</td>\n      <td>...</td>\n    </tr>\n    <tr>\n      <th>918001</th>\n      <td>1664944440000</td>\n      <td>0.3525</td>\n      <td>0.3525</td>\n      <td>0.3524</td>\n      <td>0.3525</td>\n      <td>5655.00</td>\n      <td>-0.000060</td>\n      <td>0.3525</td>\n    </tr>\n    <tr>\n      <th>918002</th>\n      <td>1664944500000</td>\n      <td>0.3524</td>\n      <td>0.3525</td>\n      <td>0.3524</td>\n      <td>0.3525</td>\n      <td>3878.00</td>\n      <td>-0.000047</td>\n      <td>0.3524</td>\n    </tr>\n    <tr>\n      <th>918003</th>\n      <td>1664944560000</td>\n      <td>0.3525</td>\n      <td>0.3526</td>\n      <td>0.3525</td>\n      <td>0.3526</td>\n      <td>18512.00</td>\n      <td>-0.000027</td>\n      <td>0.3525</td>\n    </tr>\n    <tr>\n      <th>918004</th>\n      <td>1664944620000</td>\n      <td>0.3527</td>\n      <td>0.3528</td>\n      <td>0.3527</td>\n      <td>0.3527</td>\n      <td>3693.00</td>\n      <td>-0.000005</td>\n      <td>0.3527</td>\n    </tr>\n    <tr>\n      <th>918005</th>\n      <td>1664944680000</td>\n      <td>0.3527</td>\n      <td>0.3527</td>\n      <td>0.3526</td>\n      <td>0.3526</td>\n      <td>111.00</td>\n      <td>0.000005</td>\n      <td>0.3526</td>\n    </tr>\n  </tbody>\n</table>\n<p>918006 rows × 8 columns</p>\n</div>"
     },
     "execution_count": 6,
     "metadata": {},
     "output_type": "execute_result"
    }
   ],
   "source": [
    "print(len(df_json), len(df_json) / 60 / 24 / 365)\n",
    "df_json\n"
   ],
   "metadata": {
    "collapsed": false
   }
  },
  {
   "cell_type": "markdown",
   "source": [
    "## Predict new bollinger"
   ],
   "metadata": {
    "collapsed": false
   }
  },
  {
   "cell_type": "code",
   "execution_count": 4,
   "outputs": [
    {
     "name": "stdout",
     "output_type": "stream",
     "text": [
      "Function took 1048.397 ms\n"
     ]
    }
   ],
   "source": [
    "# example how to use delta_abs\n",
    "# df['delta_abs'] = df['close'].rolling(window=timewindow).apply(delta_abs, raw=True)\n",
    "\n",
    "@numba.jit(nopython=True)\n",
    "def delta_abs(values):\n",
    "    return (values.max() - values.min()) * 100 / values.min()\n",
    "    # return dataframe['close'].rolling(n).apply(lambda s: (s.max() - s.min()) * 100 / s.min())\n",
    "\n",
    "start_time = datetime.now()\n",
    "df_json['delta_abs'] = df_json['close'].rolling(window=200).apply(delta_abs, raw=True)\n",
    "print(\"Function took\", (datetime.now() - start_time).total_seconds() * 1000, \"ms\")"
   ],
   "metadata": {
    "collapsed": false
   }
  },
  {
   "cell_type": "code",
   "execution_count": 5,
   "outputs": [
    {
     "name": "stdout",
     "output_type": "stream",
     "text": [
      "Function took 49152.856 ms\n"
     ]
    }
   ],
   "source": [
    "start_time = datetime.now()\n",
    "df_json['delta_abs11'] = df_json['close'].rolling(200).apply(lambda s : (s.max() - s.min()) * 100 / s.min())\n",
    "print(\"Function took\", (datetime.now() - start_time).total_seconds() * 1000, \"ms\")\n"
   ],
   "metadata": {
    "collapsed": false
   }
  },
  {
   "cell_type": "code",
   "execution_count": 6,
   "outputs": [
    {
     "data": {
      "text/plain": "                 date    open    high     low   close     volume  macdhist  \\\n0       1609804800000  0.4465  0.4507  0.4463  0.4500  667946.65       NaN   \n1       1609804860000  0.4496  0.4530  0.4435  0.4467  499775.21       NaN   \n2       1609804920000  0.4471  0.4492  0.4455  0.4464  290446.52       NaN   \n3       1609804980000  0.4460  0.4475  0.4424  0.4464  324858.12       NaN   \n4       1609805040000  0.4466  0.4550  0.4445  0.4537  421508.95       NaN   \n...               ...     ...     ...     ...     ...        ...       ...   \n918001  1664944440000  0.3525  0.3525  0.3524  0.3525    5655.00 -0.000060   \n918002  1664944500000  0.3524  0.3525  0.3524  0.3525    3878.00 -0.000047   \n918003  1664944560000  0.3525  0.3526  0.3525  0.3526   18512.00 -0.000027   \n918004  1664944620000  0.3527  0.3528  0.3527  0.3527    3693.00 -0.000005   \n918005  1664944680000  0.3527  0.3527  0.3526  0.3526     111.00  0.000005   \n\n        low_value  delta_abs  delta_abs11  \n0          0.4465        NaN          NaN  \n1          0.4467        NaN          NaN  \n2          0.4464        NaN          NaN  \n3          0.4460        NaN          NaN  \n4          0.4466        NaN          NaN  \n...           ...        ...          ...  \n918001     0.3525   0.908059     0.908059  \n918002     0.3524   0.908059     0.908059  \n918003     0.3525   0.908059     0.908059  \n918004     0.3527   0.908059     0.908059  \n918005     0.3526   0.908059     0.908059  \n\n[918006 rows x 10 columns]",
      "text/html": "<div>\n<style scoped>\n    .dataframe tbody tr th:only-of-type {\n        vertical-align: middle;\n    }\n\n    .dataframe tbody tr th {\n        vertical-align: top;\n    }\n\n    .dataframe thead th {\n        text-align: right;\n    }\n</style>\n<table border=\"1\" class=\"dataframe\">\n  <thead>\n    <tr style=\"text-align: right;\">\n      <th></th>\n      <th>date</th>\n      <th>open</th>\n      <th>high</th>\n      <th>low</th>\n      <th>close</th>\n      <th>volume</th>\n      <th>macdhist</th>\n      <th>low_value</th>\n      <th>delta_abs</th>\n      <th>delta_abs11</th>\n    </tr>\n  </thead>\n  <tbody>\n    <tr>\n      <th>0</th>\n      <td>1609804800000</td>\n      <td>0.4465</td>\n      <td>0.4507</td>\n      <td>0.4463</td>\n      <td>0.4500</td>\n      <td>667946.65</td>\n      <td>NaN</td>\n      <td>0.4465</td>\n      <td>NaN</td>\n      <td>NaN</td>\n    </tr>\n    <tr>\n      <th>1</th>\n      <td>1609804860000</td>\n      <td>0.4496</td>\n      <td>0.4530</td>\n      <td>0.4435</td>\n      <td>0.4467</td>\n      <td>499775.21</td>\n      <td>NaN</td>\n      <td>0.4467</td>\n      <td>NaN</td>\n      <td>NaN</td>\n    </tr>\n    <tr>\n      <th>2</th>\n      <td>1609804920000</td>\n      <td>0.4471</td>\n      <td>0.4492</td>\n      <td>0.4455</td>\n      <td>0.4464</td>\n      <td>290446.52</td>\n      <td>NaN</td>\n      <td>0.4464</td>\n      <td>NaN</td>\n      <td>NaN</td>\n    </tr>\n    <tr>\n      <th>3</th>\n      <td>1609804980000</td>\n      <td>0.4460</td>\n      <td>0.4475</td>\n      <td>0.4424</td>\n      <td>0.4464</td>\n      <td>324858.12</td>\n      <td>NaN</td>\n      <td>0.4460</td>\n      <td>NaN</td>\n      <td>NaN</td>\n    </tr>\n    <tr>\n      <th>4</th>\n      <td>1609805040000</td>\n      <td>0.4466</td>\n      <td>0.4550</td>\n      <td>0.4445</td>\n      <td>0.4537</td>\n      <td>421508.95</td>\n      <td>NaN</td>\n      <td>0.4466</td>\n      <td>NaN</td>\n      <td>NaN</td>\n    </tr>\n    <tr>\n      <th>...</th>\n      <td>...</td>\n      <td>...</td>\n      <td>...</td>\n      <td>...</td>\n      <td>...</td>\n      <td>...</td>\n      <td>...</td>\n      <td>...</td>\n      <td>...</td>\n      <td>...</td>\n    </tr>\n    <tr>\n      <th>918001</th>\n      <td>1664944440000</td>\n      <td>0.3525</td>\n      <td>0.3525</td>\n      <td>0.3524</td>\n      <td>0.3525</td>\n      <td>5655.00</td>\n      <td>-0.000060</td>\n      <td>0.3525</td>\n      <td>0.908059</td>\n      <td>0.908059</td>\n    </tr>\n    <tr>\n      <th>918002</th>\n      <td>1664944500000</td>\n      <td>0.3524</td>\n      <td>0.3525</td>\n      <td>0.3524</td>\n      <td>0.3525</td>\n      <td>3878.00</td>\n      <td>-0.000047</td>\n      <td>0.3524</td>\n      <td>0.908059</td>\n      <td>0.908059</td>\n    </tr>\n    <tr>\n      <th>918003</th>\n      <td>1664944560000</td>\n      <td>0.3525</td>\n      <td>0.3526</td>\n      <td>0.3525</td>\n      <td>0.3526</td>\n      <td>18512.00</td>\n      <td>-0.000027</td>\n      <td>0.3525</td>\n      <td>0.908059</td>\n      <td>0.908059</td>\n    </tr>\n    <tr>\n      <th>918004</th>\n      <td>1664944620000</td>\n      <td>0.3527</td>\n      <td>0.3528</td>\n      <td>0.3527</td>\n      <td>0.3527</td>\n      <td>3693.00</td>\n      <td>-0.000005</td>\n      <td>0.3527</td>\n      <td>0.908059</td>\n      <td>0.908059</td>\n    </tr>\n    <tr>\n      <th>918005</th>\n      <td>1664944680000</td>\n      <td>0.3527</td>\n      <td>0.3527</td>\n      <td>0.3526</td>\n      <td>0.3526</td>\n      <td>111.00</td>\n      <td>0.000005</td>\n      <td>0.3526</td>\n      <td>0.908059</td>\n      <td>0.908059</td>\n    </tr>\n  </tbody>\n</table>\n<p>918006 rows × 10 columns</p>\n</div>"
     },
     "execution_count": 6,
     "metadata": {},
     "output_type": "execute_result"
    }
   ],
   "source": [
    "df_json"
   ],
   "metadata": {
    "collapsed": false
   }
  },
  {
   "cell_type": "code",
   "execution_count": null,
   "outputs": [],
   "source": [
    "# write rolling for custom function\n"
   ],
   "metadata": {
    "collapsed": false
   }
  },
  {
   "cell_type": "code",
   "execution_count": 23,
   "outputs": [],
   "source": [
    "sigma_1m = 3\n",
    "timewindow_for_predict = 11"
   ],
   "metadata": {
    "collapsed": false
   }
  },
  {
   "cell_type": "code",
   "execution_count": 4,
   "outputs": [
    {
     "name": "stdout",
     "output_type": "stream",
     "text": [
      "Function took 47389.403 ms\n"
     ]
    }
   ],
   "source": [
    "\n",
    "start_time = datetime.now()\n",
    "df_json['average_1m'] = df_json['close'].rolling(timewindow_for_predict).apply(lambda s :\n",
    "                        s.mean() - s.std(ddof=1) * (timewindow_for_predict+1) * (timewindow_for_predict+1 - sigma_1m**2 - 1)**(-0.5))\n",
    "print(\"Function took\", (datetime.now() - start_time).total_seconds() * 1000, \"ms\")"
   ],
   "metadata": {
    "collapsed": false
   }
  },
  {
   "cell_type": "code",
   "execution_count": 28,
   "outputs": [],
   "source": [
    "@numba.jit(nopython=True)\n",
    "def average(values, timewindow, sigma):\n",
    "    n = len(values)\n",
    "    if n == 1:\n",
    "        return 0.\n",
    "    else:\n",
    "        # return np.mean(values) - np.std(values) * np.sqrt(n / (n - 1)) * (timewindow + 1) * (timewindow + 1 - sigma**2 - 1) ** (-0.5)\n",
    "        return np.mean(values) - np.std(values) * np.sqrt(n / (n - 1)) * ((timewindow + 1) * sigma ** 2 * (timewindow - sigma ** 2)) ** 0.5\n",
    "\n",
    "        # return np.mean(values) - np.std(values) * (timewindow + 1) * (timewindow + 1 - sigma**2 - 1)**(-0.5)"
   ],
   "metadata": {
    "collapsed": false
   }
  },
  {
   "cell_type": "code",
   "execution_count": 8,
   "outputs": [
    {
     "name": "stdout",
     "output_type": "stream",
     "text": [
      "Function took 11367.589 ms\n"
     ]
    }
   ],
   "source": [
    "start_time = datetime.now()\n",
    "df_json['average_1m_other'] = [average(df_sub.values, timewindow=timewindow_for_predict, sigma=sigma_1m) for df_sub in df_json['close'].rolling(timewindow_for_predict)]\n",
    "print(\"Function took\", (datetime.now() - start_time).total_seconds() * 1000, \"ms\")"
   ],
   "metadata": {
    "collapsed": false
   }
  },
  {
   "cell_type": "code",
   "execution_count": 29,
   "outputs": [
    {
     "name": "stdout",
     "output_type": "stream",
     "text": [
      "Function took 504.95599999999996 ms\n"
     ]
    }
   ],
   "source": [
    "start_time = datetime.now()\n",
    "df_json['average'] = df_json['close'].rolling(window=timewindow_for_predict).apply(average, args=(timewindow_for_predict, sigma_1m), raw=True)\n",
    "print(\"Function took\", (datetime.now() - start_time).total_seconds() * 1000, \"ms\")"
   ],
   "metadata": {
    "collapsed": false
   }
  },
  {
   "cell_type": "code",
   "execution_count": 17,
   "outputs": [
    {
     "data": {
      "text/plain": "8262054"
     },
     "execution_count": 17,
     "metadata": {},
     "output_type": "execute_result"
    }
   ],
   "source": [
    "df_json.size"
   ],
   "metadata": {
    "collapsed": false
   }
  },
  {
   "cell_type": "code",
   "execution_count": 10,
   "outputs": [],
   "source": [
    "def predict_price_boundary_old(df_average, df_close, start=1, stop=11):\n",
    "\n",
    "    print('sizes', df_average.size, df_close.size)\n",
    "\n",
    "    if df_average.size < stop:\n",
    "        return 0\n",
    "    # start = 1\n",
    "    # stop = 12\n",
    "\n",
    "    # k_5 = 2.8\n",
    "    # value_5 = 0\n",
    "    # average_5 = 0\n",
    "    # sigma = 0\n",
    "    sum_of_close_values = 0\n",
    "\n",
    "    for i in range(start, stop + 1):\n",
    "        sum_of_close_values += df_close.iat[-i]\n",
    "\n",
    "    average = (sum_of_close_values + df_average) / (stop + 1 - start)\n",
    "\n",
    "    local_sum = 0\n",
    "    for i in range(start, stop + 1):\n",
    "        local_sum += (df_close.iat[-i] - average) ** 2\n",
    "        local_sum += (df_average - average) ** 2\n",
    "\n",
    "    sigma = (local_sum / (stop + 1 - start)) ** 0.5\n",
    "\n",
    "    # value_5 = average_5 - sigma*((k_5**2)*stop/(stop-k_5**2-1))**(1/2)\n",
    "\n",
    "    prediction = ((stop + 1) *\n",
    "                  ((average - df_average) / sigma) ** 2 /\n",
    "                  (stop + ((average - df_average) / sigma) ** 2)) ** 0.5\n",
    "\n",
    "    # prediction = 0\n",
    "\n",
    "    return prediction.iat[-1]\n",
    "\n",
    "@numba.jit(nopython=True)\n",
    "def predict_boundary(data, start=1, stop=11):\n",
    "\n",
    "    arr_average = data[:, 0]\n",
    "    arr_close = data[:, 1]\n",
    "\n",
    "    # arr_average = [0, 1, 2, 3, 4, 5, 6, 7, 8, 9, 10] -> [11]\n",
    "    # arr_close = [0, 1, 2, 3, 4, 5, 6, 7, 8, 9, 10] -> [11]\n",
    "\n",
    "    if arr_average.size < stop:\n",
    "        return [0, arr_close[-1]]\n",
    "\n",
    "\n",
    "    x_0 = arr_average[-1]  # average value\n",
    "    s = stop + 1  # number of points WITH prediction\n",
    "\n",
    "    close_mean = np.mean(arr_close)\n",
    "    close_sq_mean = np.mean(np.power(arr_close, 2))\n",
    "    sigma = np.power((close_sq_mean - np.power(close_mean, 2)) / (s - 1), 0.5)\n",
    "    deviation = np.power((close_mean - x_0) / sigma, 2)\n",
    "\n",
    "    prediction = np.power(((s - 1) * deviation) / (s + deviation), 0.5)\n",
    "    # print(prediction)\n",
    "\n",
    "    # # k_5 = 2.8\n",
    "    # # value_5 = 0\n",
    "    # # average_5 = 0\n",
    "    # # sigma = 0\n",
    "    # sum_of_close_values = 0\n",
    "    #\n",
    "    # for i in range(start, stop + 1):\n",
    "    #     sum_of_close_values += arr_close[-i]\n",
    "    #\n",
    "    # average = (sum_of_close_values + arr_average[-1]) / (stop + 1 - start)\n",
    "    #\n",
    "    # local_sum = 0\n",
    "    # for i in range(start, stop + 1):\n",
    "    #     local_sum += (arr_close[-i] - average) ** 2\n",
    "    #     local_sum += (arr_average[-1] - average) ** 2\n",
    "    #\n",
    "    # sigma = (local_sum / (stop + 1 - start)) ** 0.5\n",
    "    #\n",
    "    # # value_5 = average_5 - sigma*((k_5**2)*stop/(stop-k_5**2-1))**(1/2)\n",
    "    #\n",
    "    # prediction = ((stop + 1) *\n",
    "    #               ((average - arr_average[-1]) / sigma) ** 2 /\n",
    "    #               (stop + ((average - arr_average[-1]) / sigma) ** 2)) ** 0.5\n",
    "\n",
    "    return [prediction, arr_close[-1]]\n",
    "\n",
    "\n",
    "@numba.jit(nopython=True)\n",
    "def predict_boundary_old(arr_average, arr_close, start=1, stop=11):\n",
    "\n",
    "    # arr_average = [0, 1, 2, 3, 4, 5, 6, 7, 8, 9, 10] -> [11]\n",
    "    # arr_close = [0, 1, 2, 3, 4, 5, 6, 7, 8, 9, 10] -> [11]\n",
    "\n",
    "    if arr_average.size < stop:\n",
    "        return 0\n",
    "\n",
    "    # start = 1\n",
    "    # stop = 12\n",
    "\n",
    "    # k_5 = 2.8\n",
    "    # value_5 = 0\n",
    "    # average_5 = 0\n",
    "    # sigma = 0\n",
    "    sum_of_close_values = 0\n",
    "\n",
    "    for i in range(start, stop + 1):\n",
    "        sum_of_close_values += arr_close[-i]\n",
    "\n",
    "    average = (sum_of_close_values + arr_average[-1]) / (stop + 1 - start)\n",
    "\n",
    "    local_sum = 0\n",
    "    for i in range(start, stop + 1):\n",
    "        local_sum += (arr_close[-i] - average) ** 2\n",
    "        local_sum += (arr_average[-1] - average) ** 2\n",
    "\n",
    "    sigma = (local_sum / (stop + 1 - start)) ** 0.5\n",
    "\n",
    "    # value_5 = average_5 - sigma*((k_5**2)*stop/(stop-k_5**2-1))**(1/2)\n",
    "\n",
    "    prediction = ((stop + 1) *\n",
    "                  ((average - arr_average[-1]) / sigma) ** 2 /\n",
    "                  (stop + ((average - arr_average[-1]) / sigma) ** 2)) ** 0.5\n",
    "\n",
    "    return prediction"
   ],
   "metadata": {
    "collapsed": false
   }
  },
  {
   "cell_type": "code",
   "execution_count": 186,
   "outputs": [],
   "source": [
    "# @numba.jit(nopython=True)\n",
    "def test(df):\n",
    "    # print('iteration')\n",
    "    print(df, df[-1][0], df[-1][1], df[:, 0])\n",
    "    # print(df[-1][1])\n",
    "    return df[-1][0] * df[-1][1], df[-1][1]\n",
    "\n",
    "def test2(value1):\n",
    "    # print('iteration')\n",
    "    print(value1)\n",
    "    # a = df['close']\n",
    "    return 0"
   ],
   "metadata": {
    "collapsed": false
   }
  },
  {
   "cell_type": "code",
   "execution_count": 79,
   "outputs": [
    {
     "data": {
      "text/plain": "                date    open    high     low   close     volume  macdhist  \\\n0      1609804800000  0.4465  0.4507  0.4463  0.4500  667946.65       NaN   \n1      1609804860000  0.4496  0.4530  0.4435  0.4467  499775.21       NaN   \n2      1609804920000  0.4471  0.4492  0.4455  0.4464  290446.52       NaN   \n3      1609804980000  0.4460  0.4475  0.4424  0.4464  324858.12       NaN   \n4      1609805040000  0.4466  0.4550  0.4445  0.4537  421508.95       NaN   \n...              ...     ...     ...     ...     ...        ...       ...   \n99995  1615814640000  1.3011  1.3037  1.2975  1.2979   74831.67  0.001774   \n99996  1615814700000  1.2974  1.2977  1.2878  1.2936  126564.87  0.001323   \n99997  1615814760000  1.2931  1.3007  1.2918  1.2951   97583.17  0.001077   \n99998  1615814820000  1.2961  1.2961  1.2900  1.2917  126217.50  0.000658   \n99999  1615814880000  1.2914  1.3006  1.2905  1.3006  661513.41  0.000934   \n\n       low_value  test_dw_1  test_dw_2   average   predict  \n0         0.4465          0        NaN       NaN       NaN  \n1         0.4467          0        NaN       NaN       NaN  \n2         0.4464          0        NaN       NaN       NaN  \n3         0.4460          0        NaN       NaN       NaN  \n4         0.4466          0        NaN       NaN       NaN  \n...          ...        ...        ...       ...       ...  \n99995     1.2979          0        0.0  1.216610  3.294016  \n99996     1.2936          0        0.0  1.216667  3.294016  \n99997     1.2931          0        0.0  1.219505  3.294016  \n99998     1.2917          0        0.0  1.231599  3.294016  \n99999     1.2914          0        0.0  1.242016  3.294016  \n\n[100000 rows x 12 columns]",
      "text/html": "<div>\n<style scoped>\n    .dataframe tbody tr th:only-of-type {\n        vertical-align: middle;\n    }\n\n    .dataframe tbody tr th {\n        vertical-align: top;\n    }\n\n    .dataframe thead th {\n        text-align: right;\n    }\n</style>\n<table border=\"1\" class=\"dataframe\">\n  <thead>\n    <tr style=\"text-align: right;\">\n      <th></th>\n      <th>date</th>\n      <th>open</th>\n      <th>high</th>\n      <th>low</th>\n      <th>close</th>\n      <th>volume</th>\n      <th>macdhist</th>\n      <th>low_value</th>\n      <th>test_dw_1</th>\n      <th>test_dw_2</th>\n      <th>average</th>\n      <th>predict</th>\n    </tr>\n  </thead>\n  <tbody>\n    <tr>\n      <th>0</th>\n      <td>1609804800000</td>\n      <td>0.4465</td>\n      <td>0.4507</td>\n      <td>0.4463</td>\n      <td>0.4500</td>\n      <td>667946.65</td>\n      <td>NaN</td>\n      <td>0.4465</td>\n      <td>0</td>\n      <td>NaN</td>\n      <td>NaN</td>\n      <td>NaN</td>\n    </tr>\n    <tr>\n      <th>1</th>\n      <td>1609804860000</td>\n      <td>0.4496</td>\n      <td>0.4530</td>\n      <td>0.4435</td>\n      <td>0.4467</td>\n      <td>499775.21</td>\n      <td>NaN</td>\n      <td>0.4467</td>\n      <td>0</td>\n      <td>NaN</td>\n      <td>NaN</td>\n      <td>NaN</td>\n    </tr>\n    <tr>\n      <th>2</th>\n      <td>1609804920000</td>\n      <td>0.4471</td>\n      <td>0.4492</td>\n      <td>0.4455</td>\n      <td>0.4464</td>\n      <td>290446.52</td>\n      <td>NaN</td>\n      <td>0.4464</td>\n      <td>0</td>\n      <td>NaN</td>\n      <td>NaN</td>\n      <td>NaN</td>\n    </tr>\n    <tr>\n      <th>3</th>\n      <td>1609804980000</td>\n      <td>0.4460</td>\n      <td>0.4475</td>\n      <td>0.4424</td>\n      <td>0.4464</td>\n      <td>324858.12</td>\n      <td>NaN</td>\n      <td>0.4460</td>\n      <td>0</td>\n      <td>NaN</td>\n      <td>NaN</td>\n      <td>NaN</td>\n    </tr>\n    <tr>\n      <th>4</th>\n      <td>1609805040000</td>\n      <td>0.4466</td>\n      <td>0.4550</td>\n      <td>0.4445</td>\n      <td>0.4537</td>\n      <td>421508.95</td>\n      <td>NaN</td>\n      <td>0.4466</td>\n      <td>0</td>\n      <td>NaN</td>\n      <td>NaN</td>\n      <td>NaN</td>\n    </tr>\n    <tr>\n      <th>...</th>\n      <td>...</td>\n      <td>...</td>\n      <td>...</td>\n      <td>...</td>\n      <td>...</td>\n      <td>...</td>\n      <td>...</td>\n      <td>...</td>\n      <td>...</td>\n      <td>...</td>\n      <td>...</td>\n      <td>...</td>\n    </tr>\n    <tr>\n      <th>99995</th>\n      <td>1615814640000</td>\n      <td>1.3011</td>\n      <td>1.3037</td>\n      <td>1.2975</td>\n      <td>1.2979</td>\n      <td>74831.67</td>\n      <td>0.001774</td>\n      <td>1.2979</td>\n      <td>0</td>\n      <td>0.0</td>\n      <td>1.216610</td>\n      <td>3.294016</td>\n    </tr>\n    <tr>\n      <th>99996</th>\n      <td>1615814700000</td>\n      <td>1.2974</td>\n      <td>1.2977</td>\n      <td>1.2878</td>\n      <td>1.2936</td>\n      <td>126564.87</td>\n      <td>0.001323</td>\n      <td>1.2936</td>\n      <td>0</td>\n      <td>0.0</td>\n      <td>1.216667</td>\n      <td>3.294016</td>\n    </tr>\n    <tr>\n      <th>99997</th>\n      <td>1615814760000</td>\n      <td>1.2931</td>\n      <td>1.3007</td>\n      <td>1.2918</td>\n      <td>1.2951</td>\n      <td>97583.17</td>\n      <td>0.001077</td>\n      <td>1.2931</td>\n      <td>0</td>\n      <td>0.0</td>\n      <td>1.219505</td>\n      <td>3.294016</td>\n    </tr>\n    <tr>\n      <th>99998</th>\n      <td>1615814820000</td>\n      <td>1.2961</td>\n      <td>1.2961</td>\n      <td>1.2900</td>\n      <td>1.2917</td>\n      <td>126217.50</td>\n      <td>0.000658</td>\n      <td>1.2917</td>\n      <td>0</td>\n      <td>0.0</td>\n      <td>1.231599</td>\n      <td>3.294016</td>\n    </tr>\n    <tr>\n      <th>99999</th>\n      <td>1615814880000</td>\n      <td>1.2914</td>\n      <td>1.3006</td>\n      <td>1.2905</td>\n      <td>1.3006</td>\n      <td>661513.41</td>\n      <td>0.000934</td>\n      <td>1.2914</td>\n      <td>0</td>\n      <td>0.0</td>\n      <td>1.242016</td>\n      <td>3.294016</td>\n    </tr>\n  </tbody>\n</table>\n<p>100000 rows × 12 columns</p>\n</div>"
     },
     "execution_count": 79,
     "metadata": {},
     "output_type": "execute_result"
    }
   ],
   "source": [
    "df_json_small = df_json[:100000]\n",
    "df_json_small"
   ],
   "metadata": {
    "collapsed": false
   }
  },
  {
   "cell_type": "code",
   "execution_count": 187,
   "outputs": [
    {
     "name": "stdout",
     "output_type": "stream",
     "text": [
      "[[1.6098048e+12 4.5070000e-01]] 1609804800000.0 0.45070000000000005 [1.6098048e+12]\n",
      "[[1.60980480e+12 4.50700000e-01]\n",
      " [1.60980486e+12 4.53000000e-01]] 1609804860000.0 0.453 [1.60980480e+12 1.60980486e+12]\n",
      "[[1.60980480e+12 4.50700000e-01]\n",
      " [1.60980486e+12 4.53000000e-01]\n",
      " [1.60980492e+12 4.49200000e-01]] 1609804920000.0 0.44920000000000004 [1.60980480e+12 1.60980486e+12 1.60980492e+12]\n",
      "[[1.60980486e+12 4.53000000e-01]\n",
      " [1.60980492e+12 4.49200000e-01]\n",
      " [1.60980498e+12 4.47500000e-01]] 1609804980000.0 0.4475 [1.60980486e+12 1.60980492e+12 1.60980498e+12]\n",
      "[[1.60980492e+12 4.49200000e-01]\n",
      " [1.60980498e+12 4.47500000e-01]\n",
      " [1.60980504e+12 4.55000000e-01]] 1609805040000.0 0.455 [1.60980492e+12 1.60980498e+12 1.60980504e+12]\n",
      "[[1.60980498e+12 4.47500000e-01]\n",
      " [1.60980504e+12 4.55000000e-01]\n",
      " [1.60980510e+12 4.54500000e-01]] 1609805100000.0 0.4545 [1.60980498e+12 1.60980504e+12 1.60980510e+12]\n",
      "[[1.60980504e+12 4.55000000e-01]\n",
      " [1.60980510e+12 4.54500000e-01]\n",
      " [1.60980516e+12 4.59200000e-01]] 1609805160000.0 0.4592 [1.60980504e+12 1.60980510e+12 1.60980516e+12]\n",
      "[[1.60980510e+12 4.54500000e-01]\n",
      " [1.60980516e+12 4.59200000e-01]\n",
      " [1.60980522e+12 4.60000000e-01]] 1609805220000.0 0.46 [1.60980510e+12 1.60980516e+12 1.60980522e+12]\n",
      "[[1.60980516e+12 4.59200000e-01]\n",
      " [1.60980522e+12 4.60000000e-01]\n",
      " [1.60980528e+12 4.61000000e-01]] 1609805280000.0 0.461 [1.60980516e+12 1.60980522e+12 1.60980528e+12]\n",
      "[[1.60980522e+12 4.60000000e-01]\n",
      " [1.60980528e+12 4.61000000e-01]\n",
      " [1.60980534e+12 4.60900000e-01]] 1609805340000.0 0.46090000000000003 [1.60980522e+12 1.60980528e+12 1.60980534e+12]\n"
     ]
    },
    {
     "data": {
      "text/plain": "0             NaN\n1             NaN\n2    7.231244e+11\n3    7.203877e+11\n4    7.324613e+11\n5    7.316564e+11\n6    7.392225e+11\n7    7.405104e+11\n8    7.421202e+11\n9    7.419593e+11\nName: date, dtype: float64"
     },
     "execution_count": 187,
     "metadata": {},
     "output_type": "execute_result"
    }
   ],
   "source": [
    "# df_json_small['test'] = df_json_small[['date', 'high']].rolling(window=2, method='table').apply(test, raw=True, engine='numba')\n",
    "# df_test = df_json_small[['date', 'high']].rolling(window=2, method='table').apply(test, raw=True, engine='numba').copy()\n",
    "df_test = df_json_small[['date', 'high']].rolling(window=3, method='table').apply(test, raw=True, engine='numba')['date'].copy()\n",
    "# df_json_small\n",
    "# df_json_small['test'] = df_test\n",
    "df_test"
   ],
   "metadata": {
    "collapsed": false
   }
  },
  {
   "cell_type": "code",
   "execution_count": 100,
   "outputs": [
    {
     "ename": "IndexError",
     "evalue": "only integers, slices (`:`), ellipsis (`...`), numpy.newaxis (`None`) and integer or boolean arrays are valid indices",
     "output_type": "error",
     "traceback": [
      "\u001B[0;31m---------------------------------------------------------------------------\u001B[0m",
      "\u001B[0;31mIndexError\u001B[0m                                Traceback (most recent call last)",
      "Input \u001B[0;32mIn [100]\u001B[0m, in \u001B[0;36m<cell line: 6>\u001B[0;34m()\u001B[0m\n\u001B[1;32m      3\u001B[0m \u001B[38;5;28;01mdef\u001B[39;00m \u001B[38;5;21mmy_custom_function\u001B[39m(x):\n\u001B[1;32m      4\u001B[0m     \u001B[38;5;28;01mreturn\u001B[39;00m x[\u001B[38;5;124m'\u001B[39m\u001B[38;5;124mA\u001B[39m\u001B[38;5;124m'\u001B[39m] \u001B[38;5;241m+\u001B[39m x[\u001B[38;5;124m'\u001B[39m\u001B[38;5;124mB\u001B[39m\u001B[38;5;124m'\u001B[39m]\n\u001B[0;32m----> 6\u001B[0m result \u001B[38;5;241m=\u001B[39m \u001B[43mdf\u001B[49m\u001B[38;5;241;43m.\u001B[39;49m\u001B[43mrolling\u001B[49m\u001B[43m(\u001B[49m\u001B[43mwindow\u001B[49m\u001B[38;5;241;43m=\u001B[39;49m\u001B[38;5;241;43m3\u001B[39;49m\u001B[43m)\u001B[49m\u001B[38;5;241;43m.\u001B[39;49m\u001B[43mapply\u001B[49m\u001B[43m(\u001B[49m\u001B[43mmy_custom_function\u001B[49m\u001B[43m,\u001B[49m\u001B[43m \u001B[49m\u001B[43mraw\u001B[49m\u001B[38;5;241;43m=\u001B[39;49m\u001B[38;5;28;43;01mTrue\u001B[39;49;00m\u001B[43m)\u001B[49m\n",
      "File \u001B[0;32m~/anaconda3/envs/nn_env/lib/python3.9/site-packages/pandas/core/window/rolling.py:1843\u001B[0m, in \u001B[0;36mRolling.apply\u001B[0;34m(self, func, raw, engine, engine_kwargs, args, kwargs)\u001B[0m\n\u001B[1;32m   1822\u001B[0m \u001B[38;5;129m@doc\u001B[39m(\n\u001B[1;32m   1823\u001B[0m     template_header,\n\u001B[1;32m   1824\u001B[0m     create_section_header(\u001B[38;5;124m\"\u001B[39m\u001B[38;5;124mParameters\u001B[39m\u001B[38;5;124m\"\u001B[39m),\n\u001B[0;32m   (...)\u001B[0m\n\u001B[1;32m   1841\u001B[0m     kwargs: \u001B[38;5;28mdict\u001B[39m[\u001B[38;5;28mstr\u001B[39m, Any] \u001B[38;5;241m|\u001B[39m \u001B[38;5;28;01mNone\u001B[39;00m \u001B[38;5;241m=\u001B[39m \u001B[38;5;28;01mNone\u001B[39;00m,\n\u001B[1;32m   1842\u001B[0m ):\n\u001B[0;32m-> 1843\u001B[0m     \u001B[38;5;28;01mreturn\u001B[39;00m \u001B[38;5;28;43msuper\u001B[39;49m\u001B[43m(\u001B[49m\u001B[43m)\u001B[49m\u001B[38;5;241;43m.\u001B[39;49m\u001B[43mapply\u001B[49m\u001B[43m(\u001B[49m\n\u001B[1;32m   1844\u001B[0m \u001B[43m        \u001B[49m\u001B[43mfunc\u001B[49m\u001B[43m,\u001B[49m\n\u001B[1;32m   1845\u001B[0m \u001B[43m        \u001B[49m\u001B[43mraw\u001B[49m\u001B[38;5;241;43m=\u001B[39;49m\u001B[43mraw\u001B[49m\u001B[43m,\u001B[49m\n\u001B[1;32m   1846\u001B[0m \u001B[43m        \u001B[49m\u001B[43mengine\u001B[49m\u001B[38;5;241;43m=\u001B[39;49m\u001B[43mengine\u001B[49m\u001B[43m,\u001B[49m\n\u001B[1;32m   1847\u001B[0m \u001B[43m        \u001B[49m\u001B[43mengine_kwargs\u001B[49m\u001B[38;5;241;43m=\u001B[39;49m\u001B[43mengine_kwargs\u001B[49m\u001B[43m,\u001B[49m\n\u001B[1;32m   1848\u001B[0m \u001B[43m        \u001B[49m\u001B[43margs\u001B[49m\u001B[38;5;241;43m=\u001B[39;49m\u001B[43margs\u001B[49m\u001B[43m,\u001B[49m\n\u001B[1;32m   1849\u001B[0m \u001B[43m        \u001B[49m\u001B[43mkwargs\u001B[49m\u001B[38;5;241;43m=\u001B[39;49m\u001B[43mkwargs\u001B[49m\u001B[43m,\u001B[49m\n\u001B[1;32m   1850\u001B[0m \u001B[43m    \u001B[49m\u001B[43m)\u001B[49m\n",
      "File \u001B[0;32m~/anaconda3/envs/nn_env/lib/python3.9/site-packages/pandas/core/window/rolling.py:1315\u001B[0m, in \u001B[0;36mRollingAndExpandingMixin.apply\u001B[0;34m(self, func, raw, engine, engine_kwargs, args, kwargs)\u001B[0m\n\u001B[1;32m   1312\u001B[0m \u001B[38;5;28;01melse\u001B[39;00m:\n\u001B[1;32m   1313\u001B[0m     \u001B[38;5;28;01mraise\u001B[39;00m \u001B[38;5;167;01mValueError\u001B[39;00m(\u001B[38;5;124m\"\u001B[39m\u001B[38;5;124mengine must be either \u001B[39m\u001B[38;5;124m'\u001B[39m\u001B[38;5;124mnumba\u001B[39m\u001B[38;5;124m'\u001B[39m\u001B[38;5;124m or \u001B[39m\u001B[38;5;124m'\u001B[39m\u001B[38;5;124mcython\u001B[39m\u001B[38;5;124m'\u001B[39m\u001B[38;5;124m\"\u001B[39m)\n\u001B[0;32m-> 1315\u001B[0m \u001B[38;5;28;01mreturn\u001B[39;00m \u001B[38;5;28;43mself\u001B[39;49m\u001B[38;5;241;43m.\u001B[39;49m\u001B[43m_apply\u001B[49m\u001B[43m(\u001B[49m\n\u001B[1;32m   1316\u001B[0m \u001B[43m    \u001B[49m\u001B[43mapply_func\u001B[49m\u001B[43m,\u001B[49m\n\u001B[1;32m   1317\u001B[0m \u001B[43m    \u001B[49m\u001B[43mnumba_cache_key\u001B[49m\u001B[38;5;241;43m=\u001B[39;49m\u001B[43mnumba_cache_key\u001B[49m\u001B[43m,\u001B[49m\n\u001B[1;32m   1318\u001B[0m \u001B[43m    \u001B[49m\u001B[43mnumba_args\u001B[49m\u001B[38;5;241;43m=\u001B[39;49m\u001B[43mnumba_args\u001B[49m\u001B[43m,\u001B[49m\n\u001B[1;32m   1319\u001B[0m \u001B[43m\u001B[49m\u001B[43m)\u001B[49m\n",
      "File \u001B[0;32m~/anaconda3/envs/nn_env/lib/python3.9/site-packages/pandas/core/window/rolling.py:590\u001B[0m, in \u001B[0;36mBaseWindow._apply\u001B[0;34m(self, func, name, numba_cache_key, numba_args, **kwargs)\u001B[0m\n\u001B[1;32m    587\u001B[0m     \u001B[38;5;28;01mreturn\u001B[39;00m result\n\u001B[1;32m    589\u001B[0m \u001B[38;5;28;01mif\u001B[39;00m \u001B[38;5;28mself\u001B[39m\u001B[38;5;241m.\u001B[39mmethod \u001B[38;5;241m==\u001B[39m \u001B[38;5;124m\"\u001B[39m\u001B[38;5;124msingle\u001B[39m\u001B[38;5;124m\"\u001B[39m:\n\u001B[0;32m--> 590\u001B[0m     \u001B[38;5;28;01mreturn\u001B[39;00m \u001B[38;5;28;43mself\u001B[39;49m\u001B[38;5;241;43m.\u001B[39;49m\u001B[43m_apply_blockwise\u001B[49m\u001B[43m(\u001B[49m\u001B[43mhomogeneous_func\u001B[49m\u001B[43m,\u001B[49m\u001B[43m \u001B[49m\u001B[43mname\u001B[49m\u001B[43m)\u001B[49m\n\u001B[1;32m    591\u001B[0m \u001B[38;5;28;01melse\u001B[39;00m:\n\u001B[1;32m    592\u001B[0m     \u001B[38;5;28;01mreturn\u001B[39;00m \u001B[38;5;28mself\u001B[39m\u001B[38;5;241m.\u001B[39m_apply_tablewise(homogeneous_func, name)\n",
      "File \u001B[0;32m~/anaconda3/envs/nn_env/lib/python3.9/site-packages/pandas/core/window/rolling.py:462\u001B[0m, in \u001B[0;36mBaseWindow._apply_blockwise\u001B[0;34m(self, homogeneous_func, name)\u001B[0m\n\u001B[1;32m    459\u001B[0m \u001B[38;5;28;01mfor\u001B[39;00m i, arr \u001B[38;5;129;01min\u001B[39;00m \u001B[38;5;28menumerate\u001B[39m(obj\u001B[38;5;241m.\u001B[39m_iter_column_arrays()):\n\u001B[1;32m    460\u001B[0m     \u001B[38;5;66;03m# GH#42736 operate column-wise instead of block-wise\u001B[39;00m\n\u001B[1;32m    461\u001B[0m     \u001B[38;5;28;01mtry\u001B[39;00m:\n\u001B[0;32m--> 462\u001B[0m         res \u001B[38;5;241m=\u001B[39m \u001B[43mhfunc\u001B[49m\u001B[43m(\u001B[49m\u001B[43marr\u001B[49m\u001B[43m)\u001B[49m\n\u001B[1;32m    463\u001B[0m     \u001B[38;5;28;01mexcept\u001B[39;00m (\u001B[38;5;167;01mTypeError\u001B[39;00m, \u001B[38;5;167;01mNotImplementedError\u001B[39;00m):\n\u001B[1;32m    464\u001B[0m         \u001B[38;5;28;01mpass\u001B[39;00m\n",
      "File \u001B[0;32m~/anaconda3/envs/nn_env/lib/python3.9/site-packages/pandas/core/window/rolling.py:452\u001B[0m, in \u001B[0;36mBaseWindow._apply_blockwise.<locals>.hfunc\u001B[0;34m(values)\u001B[0m\n\u001B[1;32m    450\u001B[0m \u001B[38;5;28;01mdef\u001B[39;00m \u001B[38;5;21mhfunc\u001B[39m(values: ArrayLike) \u001B[38;5;241m-\u001B[39m\u001B[38;5;241m>\u001B[39m ArrayLike:\n\u001B[1;32m    451\u001B[0m     values \u001B[38;5;241m=\u001B[39m \u001B[38;5;28mself\u001B[39m\u001B[38;5;241m.\u001B[39m_prep_values(values)\n\u001B[0;32m--> 452\u001B[0m     \u001B[38;5;28;01mreturn\u001B[39;00m \u001B[43mhomogeneous_func\u001B[49m\u001B[43m(\u001B[49m\u001B[43mvalues\u001B[49m\u001B[43m)\u001B[49m\n",
      "File \u001B[0;32m~/anaconda3/envs/nn_env/lib/python3.9/site-packages/pandas/core/window/rolling.py:582\u001B[0m, in \u001B[0;36mBaseWindow._apply.<locals>.homogeneous_func\u001B[0;34m(values)\u001B[0m\n\u001B[1;32m    579\u001B[0m     \u001B[38;5;28;01mreturn\u001B[39;00m func(x, start, end, min_periods, \u001B[38;5;241m*\u001B[39mnumba_args)\n\u001B[1;32m    581\u001B[0m \u001B[38;5;28;01mwith\u001B[39;00m np\u001B[38;5;241m.\u001B[39merrstate(\u001B[38;5;28mall\u001B[39m\u001B[38;5;241m=\u001B[39m\u001B[38;5;124m\"\u001B[39m\u001B[38;5;124mignore\u001B[39m\u001B[38;5;124m\"\u001B[39m):\n\u001B[0;32m--> 582\u001B[0m     result \u001B[38;5;241m=\u001B[39m \u001B[43mcalc\u001B[49m\u001B[43m(\u001B[49m\u001B[43mvalues\u001B[49m\u001B[43m)\u001B[49m\n\u001B[1;32m    584\u001B[0m \u001B[38;5;28;01mif\u001B[39;00m numba_cache_key \u001B[38;5;129;01mis\u001B[39;00m \u001B[38;5;129;01mnot\u001B[39;00m \u001B[38;5;28;01mNone\u001B[39;00m:\n\u001B[1;32m    585\u001B[0m     NUMBA_FUNC_CACHE[numba_cache_key] \u001B[38;5;241m=\u001B[39m func\n",
      "File \u001B[0;32m~/anaconda3/envs/nn_env/lib/python3.9/site-packages/pandas/core/window/rolling.py:579\u001B[0m, in \u001B[0;36mBaseWindow._apply.<locals>.homogeneous_func.<locals>.calc\u001B[0;34m(x)\u001B[0m\n\u001B[1;32m    571\u001B[0m start, end \u001B[38;5;241m=\u001B[39m window_indexer\u001B[38;5;241m.\u001B[39mget_window_bounds(\n\u001B[1;32m    572\u001B[0m     num_values\u001B[38;5;241m=\u001B[39m\u001B[38;5;28mlen\u001B[39m(x),\n\u001B[1;32m    573\u001B[0m     min_periods\u001B[38;5;241m=\u001B[39mmin_periods,\n\u001B[1;32m    574\u001B[0m     center\u001B[38;5;241m=\u001B[39m\u001B[38;5;28mself\u001B[39m\u001B[38;5;241m.\u001B[39mcenter,\n\u001B[1;32m    575\u001B[0m     closed\u001B[38;5;241m=\u001B[39m\u001B[38;5;28mself\u001B[39m\u001B[38;5;241m.\u001B[39mclosed,\n\u001B[1;32m    576\u001B[0m )\n\u001B[1;32m    577\u001B[0m \u001B[38;5;28mself\u001B[39m\u001B[38;5;241m.\u001B[39m_check_window_bounds(start, end, \u001B[38;5;28mlen\u001B[39m(x))\n\u001B[0;32m--> 579\u001B[0m \u001B[38;5;28;01mreturn\u001B[39;00m \u001B[43mfunc\u001B[49m\u001B[43m(\u001B[49m\u001B[43mx\u001B[49m\u001B[43m,\u001B[49m\u001B[43m \u001B[49m\u001B[43mstart\u001B[49m\u001B[43m,\u001B[49m\u001B[43m \u001B[49m\u001B[43mend\u001B[49m\u001B[43m,\u001B[49m\u001B[43m \u001B[49m\u001B[43mmin_periods\u001B[49m\u001B[43m,\u001B[49m\u001B[43m \u001B[49m\u001B[38;5;241;43m*\u001B[39;49m\u001B[43mnumba_args\u001B[49m\u001B[43m)\u001B[49m\n",
      "File \u001B[0;32m~/anaconda3/envs/nn_env/lib/python3.9/site-packages/pandas/core/window/rolling.py:1342\u001B[0m, in \u001B[0;36mRollingAndExpandingMixin._generate_cython_apply_func.<locals>.apply_func\u001B[0;34m(values, begin, end, min_periods, raw)\u001B[0m\n\u001B[1;32m   1339\u001B[0m \u001B[38;5;28;01mif\u001B[39;00m \u001B[38;5;129;01mnot\u001B[39;00m raw:\n\u001B[1;32m   1340\u001B[0m     \u001B[38;5;66;03m# GH 45912\u001B[39;00m\n\u001B[1;32m   1341\u001B[0m     values \u001B[38;5;241m=\u001B[39m Series(values, index\u001B[38;5;241m=\u001B[39m\u001B[38;5;28mself\u001B[39m\u001B[38;5;241m.\u001B[39m_on)\n\u001B[0;32m-> 1342\u001B[0m \u001B[38;5;28;01mreturn\u001B[39;00m \u001B[43mwindow_func\u001B[49m\u001B[43m(\u001B[49m\u001B[43mvalues\u001B[49m\u001B[43m,\u001B[49m\u001B[43m \u001B[49m\u001B[43mbegin\u001B[49m\u001B[43m,\u001B[49m\u001B[43m \u001B[49m\u001B[43mend\u001B[49m\u001B[43m,\u001B[49m\u001B[43m \u001B[49m\u001B[43mmin_periods\u001B[49m\u001B[43m)\u001B[49m\n",
      "File \u001B[0;32m~/anaconda3/envs/nn_env/lib/python3.9/site-packages/pandas/_libs/window/aggregations.pyx:1313\u001B[0m, in \u001B[0;36mpandas._libs.window.aggregations.roll_apply\u001B[0;34m()\u001B[0m\n",
      "Input \u001B[0;32mIn [100]\u001B[0m, in \u001B[0;36mmy_custom_function\u001B[0;34m(x)\u001B[0m\n\u001B[1;32m      3\u001B[0m \u001B[38;5;28;01mdef\u001B[39;00m \u001B[38;5;21mmy_custom_function\u001B[39m(x):\n\u001B[0;32m----> 4\u001B[0m     \u001B[38;5;28;01mreturn\u001B[39;00m \u001B[43mx\u001B[49m\u001B[43m[\u001B[49m\u001B[38;5;124;43m'\u001B[39;49m\u001B[38;5;124;43mA\u001B[39;49m\u001B[38;5;124;43m'\u001B[39;49m\u001B[43m]\u001B[49m \u001B[38;5;241m+\u001B[39m x[\u001B[38;5;124m'\u001B[39m\u001B[38;5;124mB\u001B[39m\u001B[38;5;124m'\u001B[39m]\n",
      "\u001B[0;31mIndexError\u001B[0m: only integers, slices (`:`), ellipsis (`...`), numpy.newaxis (`None`) and integer or boolean arrays are valid indices"
     ]
    }
   ],
   "source": [
    "df = pd.DataFrame({'A': [1, 2, 3, 4, 5, 6, 7, 8, 9], 'B': [10, 20, 30, 40, 50, 60, 70, 80, 90]})\n",
    "\n",
    "def my_custom_function(x):\n",
    "    return x['A'] + x['B']\n",
    "\n",
    "result = df.rolling(window=3).apply(my_custom_function, raw=True)"
   ],
   "metadata": {
    "collapsed": false
   }
  },
  {
   "cell_type": "code",
   "execution_count": 54,
   "outputs": [
    {
     "name": "stdout",
     "output_type": "stream",
     "text": [
      "Function took 12043.616 ms\n"
     ]
    },
    {
     "name": "stderr",
     "output_type": "stream",
     "text": [
      "/tmp/ipykernel_118777/1073477144.py:2: SettingWithCopyWarning: \n",
      "A value is trying to be set on a copy of a slice from a DataFrame.\n",
      "Try using .loc[row_indexer,col_indexer] = value instead\n",
      "\n",
      "See the caveats in the documentation: https://pandas.pydata.org/pandas-docs/stable/user_guide/indexing.html#returning-a-view-versus-a-copy\n",
      "  df_json_small['predict_price_boundary1'] = [predict_boundary_old(df_sub['average'].to_numpy(), df_sub['close'].to_numpy())\n"
     ]
    }
   ],
   "source": [
    "start_time = datetime.now()\n",
    "df_json_small['predict_price_boundary1'] = [predict_boundary_old(df_sub['average'].to_numpy(), df_sub['close'].to_numpy())\n",
    "                                            for df_sub in df_json_small[['average', 'close']].rolling(timewindow_for_predict)]\n",
    "print(\"Function took\", (datetime.now() - start_time).total_seconds() * 1000, \"ms\")"
   ],
   "metadata": {
    "collapsed": false
   }
  },
  {
   "cell_type": "code",
   "execution_count": 30,
   "outputs": [
    {
     "name": "stdout",
     "output_type": "stream",
     "text": [
      "Function took 402.61400000000003 ms\n"
     ]
    }
   ],
   "source": [
    "start_time = datetime.now()\n",
    "# df_json_small['predict'] = df_json_small['average'].rolling(window=timewindow_for_predict).apply(predict_price_boundary, args=(df_json_small['close'], 1, 11), raw=True)\n",
    "# df_json['predict'] = (\n",
    "#     df_json[['average', 'close']]\n",
    "#     .rolling(window=timewindow_for_predict, method='table')\n",
    "#     .apply(predict_boundary, raw=True, engine='numba')['average']\n",
    "#     .copy()\n",
    "# )\n",
    "\n",
    "df_json_small['predict'] = (\n",
    "    df_json_small[['average', 'close']]\n",
    "    .rolling(window=timewindow_for_predict, method='table')\n",
    "    .apply(predict_boundary, raw=True, engine='numba')['average']\n",
    "    .copy()\n",
    ")\n",
    "print(\"Function took\", (datetime.now() - start_time).total_seconds() * 1000, \"ms\")"
   ],
   "metadata": {
    "collapsed": false
   }
  },
  {
   "cell_type": "code",
   "execution_count": 82,
   "outputs": [
    {
     "data": {
      "text/plain": "                date    open    high     low   close     volume  macdhist  \\\n0      1609804800000  0.4465  0.4507  0.4463  0.4500  667946.65       NaN   \n1      1609804860000  0.4496  0.4530  0.4435  0.4467  499775.21       NaN   \n2      1609804920000  0.4471  0.4492  0.4455  0.4464  290446.52       NaN   \n3      1609804980000  0.4460  0.4475  0.4424  0.4464  324858.12       NaN   \n4      1609805040000  0.4466  0.4550  0.4445  0.4537  421508.95       NaN   \n...              ...     ...     ...     ...     ...        ...       ...   \n99995  1615814640000  1.3011  1.3037  1.2975  1.2979   74831.67  0.001774   \n99996  1615814700000  1.2974  1.2977  1.2878  1.2936  126564.87  0.001323   \n99997  1615814760000  1.2931  1.3007  1.2918  1.2951   97583.17  0.001077   \n99998  1615814820000  1.2961  1.2961  1.2900  1.2917  126217.50  0.000658   \n99999  1615814880000  1.2914  1.3006  1.2905  1.3006  661513.41  0.000934   \n\n       low_value  test_dw_1  test_dw_2   average   predict  \n0         0.4465          0        NaN       NaN       NaN  \n1         0.4467          0        NaN       NaN       NaN  \n2         0.4464          0        NaN       NaN       NaN  \n3         0.4460          0        NaN       NaN       NaN  \n4         0.4466          0        NaN       NaN       NaN  \n...          ...        ...        ...       ...       ...  \n99995     1.2979          0        0.0  1.216610  3.309037  \n99996     1.2936          0        0.0  1.216667  3.309037  \n99997     1.2931          0        0.0  1.219505  3.309037  \n99998     1.2917          0        0.0  1.231599  3.309037  \n99999     1.2914          0        0.0  1.242016  3.309037  \n\n[100000 rows x 12 columns]",
      "text/html": "<div>\n<style scoped>\n    .dataframe tbody tr th:only-of-type {\n        vertical-align: middle;\n    }\n\n    .dataframe tbody tr th {\n        vertical-align: top;\n    }\n\n    .dataframe thead th {\n        text-align: right;\n    }\n</style>\n<table border=\"1\" class=\"dataframe\">\n  <thead>\n    <tr style=\"text-align: right;\">\n      <th></th>\n      <th>date</th>\n      <th>open</th>\n      <th>high</th>\n      <th>low</th>\n      <th>close</th>\n      <th>volume</th>\n      <th>macdhist</th>\n      <th>low_value</th>\n      <th>test_dw_1</th>\n      <th>test_dw_2</th>\n      <th>average</th>\n      <th>predict</th>\n    </tr>\n  </thead>\n  <tbody>\n    <tr>\n      <th>0</th>\n      <td>1609804800000</td>\n      <td>0.4465</td>\n      <td>0.4507</td>\n      <td>0.4463</td>\n      <td>0.4500</td>\n      <td>667946.65</td>\n      <td>NaN</td>\n      <td>0.4465</td>\n      <td>0</td>\n      <td>NaN</td>\n      <td>NaN</td>\n      <td>NaN</td>\n    </tr>\n    <tr>\n      <th>1</th>\n      <td>1609804860000</td>\n      <td>0.4496</td>\n      <td>0.4530</td>\n      <td>0.4435</td>\n      <td>0.4467</td>\n      <td>499775.21</td>\n      <td>NaN</td>\n      <td>0.4467</td>\n      <td>0</td>\n      <td>NaN</td>\n      <td>NaN</td>\n      <td>NaN</td>\n    </tr>\n    <tr>\n      <th>2</th>\n      <td>1609804920000</td>\n      <td>0.4471</td>\n      <td>0.4492</td>\n      <td>0.4455</td>\n      <td>0.4464</td>\n      <td>290446.52</td>\n      <td>NaN</td>\n      <td>0.4464</td>\n      <td>0</td>\n      <td>NaN</td>\n      <td>NaN</td>\n      <td>NaN</td>\n    </tr>\n    <tr>\n      <th>3</th>\n      <td>1609804980000</td>\n      <td>0.4460</td>\n      <td>0.4475</td>\n      <td>0.4424</td>\n      <td>0.4464</td>\n      <td>324858.12</td>\n      <td>NaN</td>\n      <td>0.4460</td>\n      <td>0</td>\n      <td>NaN</td>\n      <td>NaN</td>\n      <td>NaN</td>\n    </tr>\n    <tr>\n      <th>4</th>\n      <td>1609805040000</td>\n      <td>0.4466</td>\n      <td>0.4550</td>\n      <td>0.4445</td>\n      <td>0.4537</td>\n      <td>421508.95</td>\n      <td>NaN</td>\n      <td>0.4466</td>\n      <td>0</td>\n      <td>NaN</td>\n      <td>NaN</td>\n      <td>NaN</td>\n    </tr>\n    <tr>\n      <th>...</th>\n      <td>...</td>\n      <td>...</td>\n      <td>...</td>\n      <td>...</td>\n      <td>...</td>\n      <td>...</td>\n      <td>...</td>\n      <td>...</td>\n      <td>...</td>\n      <td>...</td>\n      <td>...</td>\n      <td>...</td>\n    </tr>\n    <tr>\n      <th>99995</th>\n      <td>1615814640000</td>\n      <td>1.3011</td>\n      <td>1.3037</td>\n      <td>1.2975</td>\n      <td>1.2979</td>\n      <td>74831.67</td>\n      <td>0.001774</td>\n      <td>1.2979</td>\n      <td>0</td>\n      <td>0.0</td>\n      <td>1.216610</td>\n      <td>3.309037</td>\n    </tr>\n    <tr>\n      <th>99996</th>\n      <td>1615814700000</td>\n      <td>1.2974</td>\n      <td>1.2977</td>\n      <td>1.2878</td>\n      <td>1.2936</td>\n      <td>126564.87</td>\n      <td>0.001323</td>\n      <td>1.2936</td>\n      <td>0</td>\n      <td>0.0</td>\n      <td>1.216667</td>\n      <td>3.309037</td>\n    </tr>\n    <tr>\n      <th>99997</th>\n      <td>1615814760000</td>\n      <td>1.2931</td>\n      <td>1.3007</td>\n      <td>1.2918</td>\n      <td>1.2951</td>\n      <td>97583.17</td>\n      <td>0.001077</td>\n      <td>1.2931</td>\n      <td>0</td>\n      <td>0.0</td>\n      <td>1.219505</td>\n      <td>3.309037</td>\n    </tr>\n    <tr>\n      <th>99998</th>\n      <td>1615814820000</td>\n      <td>1.2961</td>\n      <td>1.2961</td>\n      <td>1.2900</td>\n      <td>1.2917</td>\n      <td>126217.50</td>\n      <td>0.000658</td>\n      <td>1.2917</td>\n      <td>0</td>\n      <td>0.0</td>\n      <td>1.231599</td>\n      <td>3.309037</td>\n    </tr>\n    <tr>\n      <th>99999</th>\n      <td>1615814880000</td>\n      <td>1.2914</td>\n      <td>1.3006</td>\n      <td>1.2905</td>\n      <td>1.3006</td>\n      <td>661513.41</td>\n      <td>0.000934</td>\n      <td>1.2914</td>\n      <td>0</td>\n      <td>0.0</td>\n      <td>1.242016</td>\n      <td>3.309037</td>\n    </tr>\n  </tbody>\n</table>\n<p>100000 rows × 12 columns</p>\n</div>"
     },
     "execution_count": 82,
     "metadata": {},
     "output_type": "execute_result"
    }
   ],
   "source": [
    "df_json_small"
   ],
   "metadata": {
    "collapsed": false
   }
  },
  {
   "cell_type": "code",
   "execution_count": 31,
   "outputs": [
    {
     "data": {
      "text/plain": "                 date    open    high     low   close     volume  macdhist  \\\n0       1609804800000  0.4465  0.4507  0.4463  0.4500  667946.65       NaN   \n1       1609804860000  0.4496  0.4530  0.4435  0.4467  499775.21       NaN   \n2       1609804920000  0.4471  0.4492  0.4455  0.4464  290446.52       NaN   \n3       1609804980000  0.4460  0.4475  0.4424  0.4464  324858.12       NaN   \n4       1609805040000  0.4466  0.4550  0.4445  0.4537  421508.95       NaN   \n...               ...     ...     ...     ...     ...        ...       ...   \n918001  1664944440000  0.3525  0.3525  0.3524  0.3525    5655.00 -0.000060   \n918002  1664944500000  0.3524  0.3525  0.3524  0.3525    3878.00 -0.000047   \n918003  1664944560000  0.3525  0.3526  0.3525  0.3526   18512.00 -0.000027   \n918004  1664944620000  0.3527  0.3528  0.3527  0.3527    3693.00 -0.000005   \n918005  1664944680000  0.3527  0.3527  0.3526  0.3526     111.00  0.000005   \n\n        low_value   average  predict  \n0          0.4465       NaN      NaN  \n1          0.4467       NaN      NaN  \n2          0.4464       NaN      NaN  \n3          0.4460       NaN      NaN  \n4          0.4466       NaN      NaN  \n...           ...       ...      ...  \n918001     0.3525  0.351049      3.0  \n918002     0.3524  0.351131      3.0  \n918003     0.3525  0.351155      3.0  \n918004     0.3527  0.351189      3.0  \n918005     0.3526  0.351681      3.0  \n\n[918006 rows x 10 columns]",
      "text/html": "<div>\n<style scoped>\n    .dataframe tbody tr th:only-of-type {\n        vertical-align: middle;\n    }\n\n    .dataframe tbody tr th {\n        vertical-align: top;\n    }\n\n    .dataframe thead th {\n        text-align: right;\n    }\n</style>\n<table border=\"1\" class=\"dataframe\">\n  <thead>\n    <tr style=\"text-align: right;\">\n      <th></th>\n      <th>date</th>\n      <th>open</th>\n      <th>high</th>\n      <th>low</th>\n      <th>close</th>\n      <th>volume</th>\n      <th>macdhist</th>\n      <th>low_value</th>\n      <th>average</th>\n      <th>predict</th>\n    </tr>\n  </thead>\n  <tbody>\n    <tr>\n      <th>0</th>\n      <td>1609804800000</td>\n      <td>0.4465</td>\n      <td>0.4507</td>\n      <td>0.4463</td>\n      <td>0.4500</td>\n      <td>667946.65</td>\n      <td>NaN</td>\n      <td>0.4465</td>\n      <td>NaN</td>\n      <td>NaN</td>\n    </tr>\n    <tr>\n      <th>1</th>\n      <td>1609804860000</td>\n      <td>0.4496</td>\n      <td>0.4530</td>\n      <td>0.4435</td>\n      <td>0.4467</td>\n      <td>499775.21</td>\n      <td>NaN</td>\n      <td>0.4467</td>\n      <td>NaN</td>\n      <td>NaN</td>\n    </tr>\n    <tr>\n      <th>2</th>\n      <td>1609804920000</td>\n      <td>0.4471</td>\n      <td>0.4492</td>\n      <td>0.4455</td>\n      <td>0.4464</td>\n      <td>290446.52</td>\n      <td>NaN</td>\n      <td>0.4464</td>\n      <td>NaN</td>\n      <td>NaN</td>\n    </tr>\n    <tr>\n      <th>3</th>\n      <td>1609804980000</td>\n      <td>0.4460</td>\n      <td>0.4475</td>\n      <td>0.4424</td>\n      <td>0.4464</td>\n      <td>324858.12</td>\n      <td>NaN</td>\n      <td>0.4460</td>\n      <td>NaN</td>\n      <td>NaN</td>\n    </tr>\n    <tr>\n      <th>4</th>\n      <td>1609805040000</td>\n      <td>0.4466</td>\n      <td>0.4550</td>\n      <td>0.4445</td>\n      <td>0.4537</td>\n      <td>421508.95</td>\n      <td>NaN</td>\n      <td>0.4466</td>\n      <td>NaN</td>\n      <td>NaN</td>\n    </tr>\n    <tr>\n      <th>...</th>\n      <td>...</td>\n      <td>...</td>\n      <td>...</td>\n      <td>...</td>\n      <td>...</td>\n      <td>...</td>\n      <td>...</td>\n      <td>...</td>\n      <td>...</td>\n      <td>...</td>\n    </tr>\n    <tr>\n      <th>918001</th>\n      <td>1664944440000</td>\n      <td>0.3525</td>\n      <td>0.3525</td>\n      <td>0.3524</td>\n      <td>0.3525</td>\n      <td>5655.00</td>\n      <td>-0.000060</td>\n      <td>0.3525</td>\n      <td>0.351049</td>\n      <td>3.0</td>\n    </tr>\n    <tr>\n      <th>918002</th>\n      <td>1664944500000</td>\n      <td>0.3524</td>\n      <td>0.3525</td>\n      <td>0.3524</td>\n      <td>0.3525</td>\n      <td>3878.00</td>\n      <td>-0.000047</td>\n      <td>0.3524</td>\n      <td>0.351131</td>\n      <td>3.0</td>\n    </tr>\n    <tr>\n      <th>918003</th>\n      <td>1664944560000</td>\n      <td>0.3525</td>\n      <td>0.3526</td>\n      <td>0.3525</td>\n      <td>0.3526</td>\n      <td>18512.00</td>\n      <td>-0.000027</td>\n      <td>0.3525</td>\n      <td>0.351155</td>\n      <td>3.0</td>\n    </tr>\n    <tr>\n      <th>918004</th>\n      <td>1664944620000</td>\n      <td>0.3527</td>\n      <td>0.3528</td>\n      <td>0.3527</td>\n      <td>0.3527</td>\n      <td>3693.00</td>\n      <td>-0.000005</td>\n      <td>0.3527</td>\n      <td>0.351189</td>\n      <td>3.0</td>\n    </tr>\n    <tr>\n      <th>918005</th>\n      <td>1664944680000</td>\n      <td>0.3527</td>\n      <td>0.3527</td>\n      <td>0.3526</td>\n      <td>0.3526</td>\n      <td>111.00</td>\n      <td>0.000005</td>\n      <td>0.3526</td>\n      <td>0.351681</td>\n      <td>3.0</td>\n    </tr>\n  </tbody>\n</table>\n<p>918006 rows × 10 columns</p>\n</div>"
     },
     "execution_count": 31,
     "metadata": {},
     "output_type": "execute_result"
    }
   ],
   "source": [
    "df_json"
   ],
   "metadata": {
    "collapsed": false
   }
  },
  {
   "cell_type": "markdown",
   "source": [
    "## Rolling and detectwave"
   ],
   "metadata": {
    "collapsed": false
   }
  },
  {
   "cell_type": "code",
   "execution_count": 11,
   "outputs": [
    {
     "data": {
      "text/plain": "0         0.4507\n1         0.4530\n2         0.4492\n3         0.4475\n4         0.4550\n           ...  \n917991    0.3531\n917992    0.3531\n917993    0.3528\n917994    0.3531\n917995    0.3531\nName: high, Length: 917996, dtype: float64"
     },
     "execution_count": 11,
     "metadata": {},
     "output_type": "execute_result"
    }
   ],
   "source": [
    "df_json[:-10]['high']"
   ],
   "metadata": {
    "collapsed": false
   }
  },
  {
   "cell_type": "code",
   "execution_count": 23,
   "outputs": [],
   "source": [
    "df_json['mean'] = 0\n",
    "df_json.loc[(df_json['high'] > 0), 'mean'] = 1"
   ],
   "metadata": {
    "collapsed": false
   }
  },
  {
   "cell_type": "code",
   "execution_count": 19,
   "outputs": [
    {
     "data": {
      "text/plain": "                 date    open    high     low   close     volume  mean\n0       1609804800000  0.4465  0.4507  0.4463  0.4500  667946.65     1\n1       1609804860000  0.4496  0.4530  0.4435  0.4467  499775.21     1\n2       1609804920000  0.4471  0.4492  0.4455  0.4464  290446.52     1\n3       1609804980000  0.4460  0.4475  0.4424  0.4464  324858.12     1\n4       1609805040000  0.4466  0.4550  0.4445  0.4537  421508.95     1\n...               ...     ...     ...     ...     ...        ...   ...\n918001  1664944440000  0.3525  0.3525  0.3524  0.3525    5655.00     1\n918002  1664944500000  0.3524  0.3525  0.3524  0.3525    3878.00     1\n918003  1664944560000  0.3525  0.3526  0.3525  0.3526   18512.00     1\n918004  1664944620000  0.3527  0.3528  0.3527  0.3527    3693.00     1\n918005  1664944680000  0.3527  0.3527  0.3526  0.3526     111.00     1\n\n[918006 rows x 7 columns]",
      "text/html": "<div>\n<style scoped>\n    .dataframe tbody tr th:only-of-type {\n        vertical-align: middle;\n    }\n\n    .dataframe tbody tr th {\n        vertical-align: top;\n    }\n\n    .dataframe thead th {\n        text-align: right;\n    }\n</style>\n<table border=\"1\" class=\"dataframe\">\n  <thead>\n    <tr style=\"text-align: right;\">\n      <th></th>\n      <th>date</th>\n      <th>open</th>\n      <th>high</th>\n      <th>low</th>\n      <th>close</th>\n      <th>volume</th>\n      <th>mean</th>\n    </tr>\n  </thead>\n  <tbody>\n    <tr>\n      <th>0</th>\n      <td>1609804800000</td>\n      <td>0.4465</td>\n      <td>0.4507</td>\n      <td>0.4463</td>\n      <td>0.4500</td>\n      <td>667946.65</td>\n      <td>1</td>\n    </tr>\n    <tr>\n      <th>1</th>\n      <td>1609804860000</td>\n      <td>0.4496</td>\n      <td>0.4530</td>\n      <td>0.4435</td>\n      <td>0.4467</td>\n      <td>499775.21</td>\n      <td>1</td>\n    </tr>\n    <tr>\n      <th>2</th>\n      <td>1609804920000</td>\n      <td>0.4471</td>\n      <td>0.4492</td>\n      <td>0.4455</td>\n      <td>0.4464</td>\n      <td>290446.52</td>\n      <td>1</td>\n    </tr>\n    <tr>\n      <th>3</th>\n      <td>1609804980000</td>\n      <td>0.4460</td>\n      <td>0.4475</td>\n      <td>0.4424</td>\n      <td>0.4464</td>\n      <td>324858.12</td>\n      <td>1</td>\n    </tr>\n    <tr>\n      <th>4</th>\n      <td>1609805040000</td>\n      <td>0.4466</td>\n      <td>0.4550</td>\n      <td>0.4445</td>\n      <td>0.4537</td>\n      <td>421508.95</td>\n      <td>1</td>\n    </tr>\n    <tr>\n      <th>...</th>\n      <td>...</td>\n      <td>...</td>\n      <td>...</td>\n      <td>...</td>\n      <td>...</td>\n      <td>...</td>\n      <td>...</td>\n    </tr>\n    <tr>\n      <th>918001</th>\n      <td>1664944440000</td>\n      <td>0.3525</td>\n      <td>0.3525</td>\n      <td>0.3524</td>\n      <td>0.3525</td>\n      <td>5655.00</td>\n      <td>1</td>\n    </tr>\n    <tr>\n      <th>918002</th>\n      <td>1664944500000</td>\n      <td>0.3524</td>\n      <td>0.3525</td>\n      <td>0.3524</td>\n      <td>0.3525</td>\n      <td>3878.00</td>\n      <td>1</td>\n    </tr>\n    <tr>\n      <th>918003</th>\n      <td>1664944560000</td>\n      <td>0.3525</td>\n      <td>0.3526</td>\n      <td>0.3525</td>\n      <td>0.3526</td>\n      <td>18512.00</td>\n      <td>1</td>\n    </tr>\n    <tr>\n      <th>918004</th>\n      <td>1664944620000</td>\n      <td>0.3527</td>\n      <td>0.3528</td>\n      <td>0.3527</td>\n      <td>0.3527</td>\n      <td>3693.00</td>\n      <td>1</td>\n    </tr>\n    <tr>\n      <th>918005</th>\n      <td>1664944680000</td>\n      <td>0.3527</td>\n      <td>0.3527</td>\n      <td>0.3526</td>\n      <td>0.3526</td>\n      <td>111.00</td>\n      <td>1</td>\n    </tr>\n  </tbody>\n</table>\n<p>918006 rows × 7 columns</p>\n</div>"
     },
     "execution_count": 19,
     "metadata": {},
     "output_type": "execute_result"
    }
   ],
   "source": [
    "df_json"
   ],
   "metadata": {
    "collapsed": false
   }
  },
  {
   "cell_type": "code",
   "execution_count": 4,
   "outputs": [],
   "source": [
    "values = df_json.values"
   ],
   "metadata": {
    "collapsed": false
   }
  },
  {
   "cell_type": "code",
   "execution_count": 5,
   "outputs": [
    {
     "name": "stdout",
     "output_type": "stream",
     "text": [
      "[[1.60980480e+12 4.46500000e-01 4.50700000e-01 4.46300000e-01\n",
      "  4.50000000e-01 6.67946650e+05]\n",
      " [1.60980486e+12 4.49600000e-01 4.53000000e-01 4.43500000e-01\n",
      "  4.46700000e-01 4.99775210e+05]\n",
      " [1.60980492e+12 4.47100000e-01 4.49200000e-01 4.45500000e-01\n",
      "  4.46400000e-01 2.90446520e+05]\n",
      " ...\n",
      " [1.66494456e+12 3.52500000e-01 3.52600000e-01 3.52500000e-01\n",
      "  3.52600000e-01 1.85120000e+04]\n",
      " [1.66494462e+12 3.52700000e-01 3.52800000e-01 3.52700000e-01\n",
      "  3.52700000e-01 3.69300000e+03]\n",
      " [1.66494468e+12 3.52700000e-01 3.52700000e-01 3.52600000e-01\n",
      "  3.52600000e-01 1.11000000e+02]]\n"
     ]
    }
   ],
   "source": [
    "print(values)"
   ],
   "metadata": {
    "collapsed": false
   }
  },
  {
   "cell_type": "code",
   "execution_count": 79,
   "outputs": [],
   "source": [
    "def roll(df, w, **kwargs):\n",
    "    v = df.values\n",
    "    d0, d1 = v.shape\n",
    "    s0, s1 = v.strides\n",
    "\n",
    "    a = np.lib.stride_tricks.as_strided(v, (d0 - (w - 1), w, d1), (s0, s0, s1))\n",
    "\n",
    "    rolled_df = pd.concat({\n",
    "        row: pd.DataFrame(values, columns=df.columns)\n",
    "        for row, values in zip(range(w-1, d0), a)\n",
    "    })\n",
    "\n",
    "    return rolled_df.groupby(level=0, **kwargs)"
   ],
   "metadata": {
    "collapsed": false
   }
  },
  {
   "cell_type": "code",
   "execution_count": 12,
   "outputs": [
    {
     "name": "stdout",
     "output_type": "stream",
     "text": [
      "Matched filter took 33366.399000000005 ms\n",
      "                   0        1        2        3        4           5\n",
      "9       1.609805e+12  0.45185  0.45510  0.44915  0.45323  411080.754\n",
      "10      1.609805e+12  0.45321  0.45673  0.45051  0.45480  369864.301\n",
      "11      1.609805e+12  0.45492  0.45810  0.45182  0.45579  353410.383\n",
      "12      1.609805e+12  0.45593  0.45984  0.45270  0.45758  346658.463\n",
      "13      1.609805e+12  0.45778  0.46164  0.45448  0.45902  331045.395\n",
      "...              ...      ...      ...      ...      ...         ...\n",
      "918001  1.664944e+12  0.35270  0.35280  0.35251  0.35266   26278.300\n",
      "918002  1.664944e+12  0.35263  0.35274  0.35248  0.35263   15693.900\n",
      "918003  1.664944e+12  0.35260  0.35272  0.35245  0.35261   17173.000\n",
      "918004  1.664944e+12  0.35259  0.35269  0.35246  0.35257   15646.500\n",
      "918005  1.664944e+12  0.35255  0.35265  0.35245  0.35255   13351.600\n",
      "\n",
      "[917997 rows x 6 columns]\n"
     ]
    }
   ],
   "source": [
    "time_window = 10\n",
    "\n",
    "start_time = datetime.now()\n",
    "result = roll(df_json, time_window).mean()\n",
    "print(\"Function took\", (datetime.now() - start_time).total_seconds() * 1000, \"ms\")\n",
    "print(result)"
   ],
   "metadata": {
    "collapsed": false
   }
  },
  {
   "cell_type": "code",
   "execution_count": 24,
   "outputs": [],
   "source": [
    "# def roll_gpt(df, w, **kwargs):\n",
    "#     rolled_df = pd.concat([df.shift(-i) for i in range(w)], axis=1)\n",
    "#     rolled_df.columns = [f'window_{i}' for i in range(w)]\n",
    "#     return rolled_df.dropna().groupby(**kwargs)\n",
    "\n",
    "# def roll_gpt(df, w, **kwargs):\n",
    "#     n_cols = df.shape[1]\n",
    "#     rolled_df = pd.concat([df.shift(-i) for i in range(w)], axis=1)\n",
    "#     rolled_df.columns = [f'window_{i}_{col}' for i in range(w) for col in df.columns]\n",
    "#     return rolled_df.dropna().groupby(**kwargs)\n",
    "\n",
    "def roll_gpt(df, w, **kwargs):\n",
    "    n_cols = df.shape[1]\n",
    "    rolled_df = pd.concat([df.shift(-i) for i in range(w)], axis=1)\n",
    "    rolled_df[\"rolling_window\"] = [i for i in range(w)]\n",
    "    return rolled_df.dropna().groupby(**kwargs)\n",
    "\n",
    "def roll_v2(df, w, **kwargs):\n",
    "    rolled_df = df.rolling(w).apply(lambda x: x)\n",
    "    return rolled_df.dropna().groupby(**kwargs)"
   ],
   "metadata": {
    "collapsed": false
   }
  },
  {
   "cell_type": "code",
   "execution_count": 26,
   "outputs": [
    {
     "name": "stdout",
     "output_type": "stream",
     "text": [
      "Matched filter took 61.843 ms\n",
      "                   0        1        2        3        4        5\n",
      "0                NaN      NaN      NaN      NaN      NaN      NaN\n",
      "1                NaN      NaN      NaN      NaN      NaN      NaN\n",
      "2                NaN      NaN      NaN      NaN      NaN      NaN\n",
      "3                NaN      NaN      NaN      NaN      NaN      NaN\n",
      "4                NaN      NaN      NaN      NaN      NaN      NaN\n",
      "...              ...      ...      ...      ...      ...      ...\n",
      "918001  1.664944e+12  0.35270  0.35280  0.35251  0.35266  26278.3\n",
      "918002  1.664944e+12  0.35263  0.35274  0.35248  0.35263  15693.9\n",
      "918003  1.664944e+12  0.35260  0.35272  0.35245  0.35261  17173.0\n",
      "918004  1.664944e+12  0.35259  0.35269  0.35246  0.35257  15646.5\n",
      "918005  1.664944e+12  0.35255  0.35265  0.35245  0.35255  13351.6\n",
      "\n",
      "[918006 rows x 6 columns]\n"
     ]
    }
   ],
   "source": [
    "time_window = 10\n",
    "\n",
    "start_time = datetime.now()\n",
    "# result = roll_v2(df_json, time_window).mean()\n",
    "result = df_json.rolling(time_window).mean()\n",
    "\n",
    "print(\"Function took\", (datetime.now() - start_time).total_seconds() * 1000, \"ms\")\n",
    "print(result)"
   ],
   "metadata": {
    "collapsed": false
   }
  },
  {
   "cell_type": "code",
   "execution_count": 194,
   "outputs": [
    {
     "data": {
      "text/plain": "                 date    open    high     low   close     volume  macdhist  \\\n0       1609804800000  0.4465  0.4507  0.4463  0.4500  667946.65  0.000000   \n1       1609804860000  0.4496  0.4530  0.4435  0.4467  499775.21  0.000000   \n2       1609804920000  0.4471  0.4492  0.4455  0.4464  290446.52  0.000000   \n3       1609804980000  0.4460  0.4475  0.4424  0.4464  324858.12  0.000000   \n4       1609805040000  0.4466  0.4550  0.4445  0.4537  421508.95  0.000000   \n...               ...     ...     ...     ...     ...        ...       ...   \n918001  1664944440000  0.3525  0.3525  0.3524  0.3525    5655.00 -0.000060   \n918002  1664944500000  0.3524  0.3525  0.3524  0.3525    3878.00 -0.000047   \n918003  1664944560000  0.3525  0.3526  0.3525  0.3526   18512.00 -0.000027   \n918004  1664944620000  0.3527  0.3528  0.3527  0.3527    3693.00 -0.000005   \n918005  1664944680000  0.3527  0.3527  0.3526  0.3526     111.00  0.000005   \n\n        low_value  \n0          0.4465  \n1          0.4467  \n2          0.4464  \n3          0.4460  \n4          0.4466  \n...           ...  \n918001     0.3525  \n918002     0.3524  \n918003     0.3525  \n918004     0.3527  \n918005     0.3526  \n\n[918006 rows x 8 columns]",
      "text/html": "<div>\n<style scoped>\n    .dataframe tbody tr th:only-of-type {\n        vertical-align: middle;\n    }\n\n    .dataframe tbody tr th {\n        vertical-align: top;\n    }\n\n    .dataframe thead th {\n        text-align: right;\n    }\n</style>\n<table border=\"1\" class=\"dataframe\">\n  <thead>\n    <tr style=\"text-align: right;\">\n      <th></th>\n      <th>date</th>\n      <th>open</th>\n      <th>high</th>\n      <th>low</th>\n      <th>close</th>\n      <th>volume</th>\n      <th>macdhist</th>\n      <th>low_value</th>\n    </tr>\n  </thead>\n  <tbody>\n    <tr>\n      <th>0</th>\n      <td>1609804800000</td>\n      <td>0.4465</td>\n      <td>0.4507</td>\n      <td>0.4463</td>\n      <td>0.4500</td>\n      <td>667946.65</td>\n      <td>0.000000</td>\n      <td>0.4465</td>\n    </tr>\n    <tr>\n      <th>1</th>\n      <td>1609804860000</td>\n      <td>0.4496</td>\n      <td>0.4530</td>\n      <td>0.4435</td>\n      <td>0.4467</td>\n      <td>499775.21</td>\n      <td>0.000000</td>\n      <td>0.4467</td>\n    </tr>\n    <tr>\n      <th>2</th>\n      <td>1609804920000</td>\n      <td>0.4471</td>\n      <td>0.4492</td>\n      <td>0.4455</td>\n      <td>0.4464</td>\n      <td>290446.52</td>\n      <td>0.000000</td>\n      <td>0.4464</td>\n    </tr>\n    <tr>\n      <th>3</th>\n      <td>1609804980000</td>\n      <td>0.4460</td>\n      <td>0.4475</td>\n      <td>0.4424</td>\n      <td>0.4464</td>\n      <td>324858.12</td>\n      <td>0.000000</td>\n      <td>0.4460</td>\n    </tr>\n    <tr>\n      <th>4</th>\n      <td>1609805040000</td>\n      <td>0.4466</td>\n      <td>0.4550</td>\n      <td>0.4445</td>\n      <td>0.4537</td>\n      <td>421508.95</td>\n      <td>0.000000</td>\n      <td>0.4466</td>\n    </tr>\n    <tr>\n      <th>...</th>\n      <td>...</td>\n      <td>...</td>\n      <td>...</td>\n      <td>...</td>\n      <td>...</td>\n      <td>...</td>\n      <td>...</td>\n      <td>...</td>\n    </tr>\n    <tr>\n      <th>918001</th>\n      <td>1664944440000</td>\n      <td>0.3525</td>\n      <td>0.3525</td>\n      <td>0.3524</td>\n      <td>0.3525</td>\n      <td>5655.00</td>\n      <td>-0.000060</td>\n      <td>0.3525</td>\n    </tr>\n    <tr>\n      <th>918002</th>\n      <td>1664944500000</td>\n      <td>0.3524</td>\n      <td>0.3525</td>\n      <td>0.3524</td>\n      <td>0.3525</td>\n      <td>3878.00</td>\n      <td>-0.000047</td>\n      <td>0.3524</td>\n    </tr>\n    <tr>\n      <th>918003</th>\n      <td>1664944560000</td>\n      <td>0.3525</td>\n      <td>0.3526</td>\n      <td>0.3525</td>\n      <td>0.3526</td>\n      <td>18512.00</td>\n      <td>-0.000027</td>\n      <td>0.3525</td>\n    </tr>\n    <tr>\n      <th>918004</th>\n      <td>1664944620000</td>\n      <td>0.3527</td>\n      <td>0.3528</td>\n      <td>0.3527</td>\n      <td>0.3527</td>\n      <td>3693.00</td>\n      <td>-0.000005</td>\n      <td>0.3527</td>\n    </tr>\n    <tr>\n      <th>918005</th>\n      <td>1664944680000</td>\n      <td>0.3527</td>\n      <td>0.3527</td>\n      <td>0.3526</td>\n      <td>0.3526</td>\n      <td>111.00</td>\n      <td>0.000005</td>\n      <td>0.3526</td>\n    </tr>\n  </tbody>\n</table>\n<p>918006 rows × 8 columns</p>\n</div>"
     },
     "execution_count": 194,
     "metadata": {},
     "output_type": "execute_result"
    }
   ],
   "source": [
    "df_json = df_json.fillna(0)\n",
    "df_json"
   ],
   "metadata": {
    "collapsed": false
   }
  },
  {
   "cell_type": "code",
   "execution_count": 20,
   "outputs": [],
   "source": [
    "hist = df_json['macdhist'].to_numpy()"
   ],
   "metadata": {
    "collapsed": false
   }
  },
  {
   "cell_type": "code",
   "execution_count": 21,
   "outputs": [
    {
     "name": "stdout",
     "output_type": "stream",
     "text": [
      "[0.00000000e+00 0.00000000e+00 0.00000000e+00 ... 3.53624207e-05\n",
      " 5.48898722e-05 5.38129077e-05]\n"
     ]
    }
   ],
   "source": [
    "print(hist)"
   ],
   "metadata": {
    "collapsed": false
   }
  },
  {
   "cell_type": "code",
   "execution_count": 68,
   "outputs": [],
   "source": [],
   "metadata": {
    "collapsed": false
   }
  },
  {
   "cell_type": "code",
   "execution_count": 30,
   "outputs": [
    {
     "data": {
      "text/plain": "                 date    open    high     low   close     volume  macdhist  \\\n0       1609804800000  0.4465  0.4507  0.4463  0.4500  667946.65  0.000000   \n1       1609804860000  0.4496  0.4530  0.4435  0.4467  499775.21  0.000000   \n2       1609804920000  0.4471  0.4492  0.4455  0.4464  290446.52  0.000000   \n3       1609804980000  0.4460  0.4475  0.4424  0.4464  324858.12  0.000000   \n4       1609805040000  0.4466  0.4550  0.4445  0.4537  421508.95  0.000000   \n...               ...     ...     ...     ...     ...        ...       ...   \n918001  1664944440000  0.3525  0.3525  0.3524  0.3525    5655.00  0.000007   \n918002  1664944500000  0.3524  0.3525  0.3524  0.3525    3878.00  0.000017   \n918003  1664944560000  0.3525  0.3526  0.3525  0.3526   18512.00  0.000035   \n918004  1664944620000  0.3527  0.3528  0.3527  0.3527    3693.00  0.000055   \n918005  1664944680000  0.3527  0.3527  0.3526  0.3526     111.00  0.000054   \n\n        low_value  \n0          0.4465  \n1          0.4467  \n2          0.4464  \n3          0.4460  \n4          0.4466  \n...           ...  \n918001     0.3525  \n918002     0.3524  \n918003     0.3525  \n918004     0.3527  \n918005     0.3526  \n\n[918006 rows x 8 columns]",
      "text/html": "<div>\n<style scoped>\n    .dataframe tbody tr th:only-of-type {\n        vertical-align: middle;\n    }\n\n    .dataframe tbody tr th {\n        vertical-align: top;\n    }\n\n    .dataframe thead th {\n        text-align: right;\n    }\n</style>\n<table border=\"1\" class=\"dataframe\">\n  <thead>\n    <tr style=\"text-align: right;\">\n      <th></th>\n      <th>date</th>\n      <th>open</th>\n      <th>high</th>\n      <th>low</th>\n      <th>close</th>\n      <th>volume</th>\n      <th>macdhist</th>\n      <th>low_value</th>\n    </tr>\n  </thead>\n  <tbody>\n    <tr>\n      <th>0</th>\n      <td>1609804800000</td>\n      <td>0.4465</td>\n      <td>0.4507</td>\n      <td>0.4463</td>\n      <td>0.4500</td>\n      <td>667946.65</td>\n      <td>0.000000</td>\n      <td>0.4465</td>\n    </tr>\n    <tr>\n      <th>1</th>\n      <td>1609804860000</td>\n      <td>0.4496</td>\n      <td>0.4530</td>\n      <td>0.4435</td>\n      <td>0.4467</td>\n      <td>499775.21</td>\n      <td>0.000000</td>\n      <td>0.4467</td>\n    </tr>\n    <tr>\n      <th>2</th>\n      <td>1609804920000</td>\n      <td>0.4471</td>\n      <td>0.4492</td>\n      <td>0.4455</td>\n      <td>0.4464</td>\n      <td>290446.52</td>\n      <td>0.000000</td>\n      <td>0.4464</td>\n    </tr>\n    <tr>\n      <th>3</th>\n      <td>1609804980000</td>\n      <td>0.4460</td>\n      <td>0.4475</td>\n      <td>0.4424</td>\n      <td>0.4464</td>\n      <td>324858.12</td>\n      <td>0.000000</td>\n      <td>0.4460</td>\n    </tr>\n    <tr>\n      <th>4</th>\n      <td>1609805040000</td>\n      <td>0.4466</td>\n      <td>0.4550</td>\n      <td>0.4445</td>\n      <td>0.4537</td>\n      <td>421508.95</td>\n      <td>0.000000</td>\n      <td>0.4466</td>\n    </tr>\n    <tr>\n      <th>...</th>\n      <td>...</td>\n      <td>...</td>\n      <td>...</td>\n      <td>...</td>\n      <td>...</td>\n      <td>...</td>\n      <td>...</td>\n      <td>...</td>\n    </tr>\n    <tr>\n      <th>918001</th>\n      <td>1664944440000</td>\n      <td>0.3525</td>\n      <td>0.3525</td>\n      <td>0.3524</td>\n      <td>0.3525</td>\n      <td>5655.00</td>\n      <td>0.000007</td>\n      <td>0.3525</td>\n    </tr>\n    <tr>\n      <th>918002</th>\n      <td>1664944500000</td>\n      <td>0.3524</td>\n      <td>0.3525</td>\n      <td>0.3524</td>\n      <td>0.3525</td>\n      <td>3878.00</td>\n      <td>0.000017</td>\n      <td>0.3524</td>\n    </tr>\n    <tr>\n      <th>918003</th>\n      <td>1664944560000</td>\n      <td>0.3525</td>\n      <td>0.3526</td>\n      <td>0.3525</td>\n      <td>0.3526</td>\n      <td>18512.00</td>\n      <td>0.000035</td>\n      <td>0.3525</td>\n    </tr>\n    <tr>\n      <th>918004</th>\n      <td>1664944620000</td>\n      <td>0.3527</td>\n      <td>0.3528</td>\n      <td>0.3527</td>\n      <td>0.3527</td>\n      <td>3693.00</td>\n      <td>0.000055</td>\n      <td>0.3527</td>\n    </tr>\n    <tr>\n      <th>918005</th>\n      <td>1664944680000</td>\n      <td>0.3527</td>\n      <td>0.3527</td>\n      <td>0.3526</td>\n      <td>0.3526</td>\n      <td>111.00</td>\n      <td>0.000054</td>\n      <td>0.3526</td>\n    </tr>\n  </tbody>\n</table>\n<p>918006 rows × 8 columns</p>\n</div>"
     },
     "execution_count": 30,
     "metadata": {},
     "output_type": "execute_result"
    }
   ],
   "source": [
    "df_json"
   ],
   "metadata": {
    "collapsed": false
   }
  },
  {
   "cell_type": "code",
   "execution_count": 83,
   "outputs": [],
   "source": [
    "def custom_function(x):\n",
    "    # print(x)\n",
    "    # return x['low'] * x['open'] + x['high']\n",
    "    return 1\n",
    "\n",
    "# window_size = 3\n"
   ],
   "metadata": {
    "collapsed": false
   }
  },
  {
   "cell_type": "code",
   "execution_count": 76,
   "outputs": [
    {
     "name": "stdout",
     "output_type": "stream",
     "text": [
      "918006\n",
      "(918006,)\n"
     ]
    }
   ],
   "source": [
    "print(len(df_json))\n",
    "result = np.ndarray((len(df_json)))\n",
    "print(np.shape(result))"
   ],
   "metadata": {
    "collapsed": false
   }
  },
  {
   "cell_type": "code",
   "execution_count": 85,
   "outputs": [
    {
     "name": "stdout",
     "output_type": "stream",
     "text": [
      "Function took 84126.154 ms\n"
     ]
    }
   ],
   "source": [
    "start_time = datetime.now()\n",
    "# test_result = roll(df_json, window_size).apply(detect_wave).fillna(0)\n",
    "test_result = roll(df_json, window_size).apply(custom_function).fillna(0)\n",
    "print(\"Function took\", (datetime.now() - start_time).total_seconds() * 1000, \"ms\")"
   ],
   "metadata": {
    "collapsed": false
   }
  },
  {
   "cell_type": "code",
   "execution_count": 29,
   "outputs": [],
   "source": [
    "window_size = 200\n",
    "toler_hist = 1.0\n",
    "toler_low = 0.99\n",
    "# result = df_json.rolling(window_size).apply(lambda x: custom_function(x))\n",
    "# result = df_json.rolling(window_size).apply(lambda x: custom_function(x))\n",
    "# result = df_json.shift(-window_size+1).rolling(window_size).apply(custom_function)"
   ],
   "metadata": {
    "collapsed": false
   }
  },
  {
   "cell_type": "code",
   "execution_count": 77,
   "outputs": [
    {
     "name": "stdout",
     "output_type": "stream",
     "text": [
      "Function took 57380.045000000006 ms\n"
     ]
    }
   ],
   "source": [
    "\n",
    "start_time = datetime.now()\n",
    "\n",
    "k = 0\n",
    "result = np.ndarray(len(df_json))\n",
    "for df_sub in df_json.rolling(window_size):\n",
    "    # print(custom_function(df_sub))\n",
    "    # print(detect_wave(df_sub))\n",
    "    result[k] = detect_wave(df_sub)\n",
    "    k += 1\n",
    "    # if k > 100:\n",
    "    #     break\n",
    "\n",
    "print(\"Function took\", (datetime.now() - start_time).total_seconds() * 1000, \"ms\")\n"
   ],
   "metadata": {
    "collapsed": false
   }
  },
  {
   "cell_type": "code",
   "execution_count": 220,
   "outputs": [
    {
     "name": "stdout",
     "output_type": "stream",
     "text": [
      "Function took 101068.601 ms\n"
     ]
    }
   ],
   "source": [
    "start_time = datetime.now()\n",
    "res_test2 = [detect_wave(df_sub) for df_sub in df_json.rolling(window_size)]\n",
    "# res_test2 = [custom_function(df_sub) for df_sub in df_json.rolling(window_size)]\n",
    "print(\"Function took\", (datetime.now() - start_time).total_seconds() * 1000, \"ms\")\n"
   ],
   "metadata": {
    "collapsed": false
   }
  },
  {
   "cell_type": "code",
   "execution_count": 19,
   "outputs": [
    {
     "name": "stdout",
     "output_type": "stream",
     "text": [
      "Function took 111693.87299999999 ms\n"
     ]
    }
   ],
   "source": [
    "start_time = datetime.now()\n",
    "# res_test2 = [detect_wave_new(df_sub, window_size) for df_sub in df_json.rolling(window_size)]\n",
    "# res_test2 = [detect_wave_numpy(df_sub['macdhist'].to_numpy(), df_sub['low_value'].to_numpy(), window_size) for df_sub in df_json.rolling(window_size)]\n",
    "res_test2 = [detect_wave(df_sub['macdhist'].to_numpy(), df_sub['low_value'].to_numpy()) for df_sub in df_json[['macdhist', 'low_value']].rolling(window_size)]\n",
    "# res_test2 = [custom_function(df_sub) for df_sub in df_json.rolling(window_size)]\n",
    "print(\"Function took\", (datetime.now() - start_time).total_seconds() * 1000, \"ms\")"
   ],
   "metadata": {
    "collapsed": false
   }
  },
  {
   "cell_type": "code",
   "execution_count": null,
   "outputs": [],
   "source": [],
   "metadata": {
    "collapsed": false
   }
  },
  {
   "cell_type": "code",
   "execution_count": 34,
   "outputs": [],
   "source": [
    "@numba.jit(nopython=True)\n",
    "def detect_wave(hist, low, toler_hist=1.00, toler_low=0.99, n_wave=3):\n",
    "    # hist = df['macdhist'].to_numpy()\n",
    "    # low = df[\"low_value\"].to_numpy()\n",
    "    n = hist.shape[0]\n",
    "\n",
    "    if hist[-1] > 0:\n",
    "        return 0\n",
    "\n",
    "    wave_list = []\n",
    "    hist_min = hist[-1]\n",
    "    low_min = low[-1]\n",
    "\n",
    "    # start_time = datetime.now()\n",
    "    for i in range(2, n):\n",
    "        hist_min = min(hist_min, hist[-i])\n",
    "        low_min = min(low_min, low[-i])\n",
    "\n",
    "        #Конец волны\n",
    "        if hist[-i] > 0 and hist[-i+1] < 0:\n",
    "            wave_list.append([hist_min, low_min])\n",
    "\n",
    "            if len(wave_list) == n_wave:\n",
    "                break\n",
    "\n",
    "        #Начало волны\n",
    "        if hist[-i] < 0 and hist[-i+1] > 0:\n",
    "            hist_min = hist[-i]\n",
    "            low_min = low[-i]\n",
    "\n",
    "    # print(\"Waves search took\", (datetime.now() - start_time).total_seconds() * 1000, \"ms\")\n",
    "\n",
    "    if len(wave_list) > 1:\n",
    "\n",
    "        if ( (wave_list[0][0] > (wave_list[1][0] * toler_hist)) & (wave_list[0][1] < (wave_list[1][1]) * toler_low) ):\n",
    "            return 1\n",
    "\n",
    "        # if ( (wave_list[0][0] > (wave_list[2][0] * toler_hist)) & (wave_list[0][1] < (wave_list[2][1]) * toler_low) ):\n",
    "        #     return 2\n",
    "\n",
    "    else:\n",
    "        return 0\n",
    "\n",
    "    return 0\n",
    "\n",
    "\n",
    "@numba.jit(nopython=True)\n",
    "def detect_wave_optimal(data, toler_hist=1.00, toler_low=0.99, n_wave=3):\n",
    "    hist = data[:, 0]\n",
    "    low = data[:, 1]\n",
    "    # hist = df['macdhist'].to_numpy()\n",
    "    # low = df[\"low_value\"].to_numpy()\n",
    "    n = hist.shape[0]\n",
    "\n",
    "    if hist[-1] > 0:\n",
    "        return [0, low[-1]]\n",
    "\n",
    "    wave_list = []\n",
    "    hist_min = hist[-1]\n",
    "    low_min = low[-1]\n",
    "\n",
    "    # start_time = datetime.now()\n",
    "    for i in range(2, n):\n",
    "        hist_min = min(hist_min, hist[-i])\n",
    "        low_min = min(low_min, low[-i])\n",
    "\n",
    "        #Конец волны\n",
    "        if hist[-i] > 0 and hist[-i+1] < 0:\n",
    "            wave_list.append([hist_min, low_min])\n",
    "\n",
    "            if len(wave_list) == n_wave:\n",
    "                break\n",
    "\n",
    "        #Начало волны\n",
    "        if hist[-i] < 0 and hist[-i+1] > 0:\n",
    "            hist_min = hist[-i]\n",
    "            low_min = low[-i]\n",
    "\n",
    "    # print(\"Waves search took\", (datetime.now() - start_time).total_seconds() * 1000, \"ms\")\n",
    "\n",
    "    if len(wave_list) > 1:\n",
    "\n",
    "        if ( (wave_list[0][0] > (wave_list[1][0] * toler_hist)) & (wave_list[0][1] < (wave_list[1][1]) * toler_low) ):\n",
    "            return [1, low[-1]]\n",
    "\n",
    "        # if ( (wave_list[0][0] > (wave_list[2][0] * toler_hist)) & (wave_list[0][1] < (wave_list[2][1]) * toler_low) ):\n",
    "        #     return 2\n",
    "\n",
    "    else:\n",
    "        return [0, low[-1]]\n",
    "\n",
    "    return [0, low[-1]]"
   ],
   "metadata": {
    "collapsed": false
   }
  },
  {
   "cell_type": "code",
   "execution_count": 40,
   "outputs": [
    {
     "name": "stdout",
     "output_type": "stream",
     "text": [
      "Function took 1114.246 ms\n"
     ]
    }
   ],
   "source": [
    "window_size = 200\n",
    "start_time = datetime.now()\n",
    "df_test = df_json[['macdhist', 'low_value']].rolling(window=window_size, method='table').apply(detect_wave_optimal, raw=True, engine='numba')['macdhist'].copy()\n",
    "print(\"Function took\", (datetime.now() - start_time).total_seconds() * 1000, \"ms\")"
   ],
   "metadata": {
    "collapsed": false
   }
  },
  {
   "cell_type": "code",
   "execution_count": 33,
   "outputs": [
    {
     "data": {
      "text/plain": "                 date    open    high     low   close     volume  macdhist  \\\n0       1609804800000  0.4465  0.4507  0.4463  0.4500  667946.65       NaN   \n1       1609804860000  0.4496  0.4530  0.4435  0.4467  499775.21       NaN   \n2       1609804920000  0.4471  0.4492  0.4455  0.4464  290446.52       NaN   \n3       1609804980000  0.4460  0.4475  0.4424  0.4464  324858.12       NaN   \n4       1609805040000  0.4466  0.4550  0.4445  0.4537  421508.95       NaN   \n...               ...     ...     ...     ...     ...        ...       ...   \n918001  1664944440000  0.3525  0.3525  0.3524  0.3525    5655.00 -0.000060   \n918002  1664944500000  0.3524  0.3525  0.3524  0.3525    3878.00 -0.000047   \n918003  1664944560000  0.3525  0.3526  0.3525  0.3526   18512.00 -0.000027   \n918004  1664944620000  0.3527  0.3528  0.3527  0.3527    3693.00 -0.000005   \n918005  1664944680000  0.3527  0.3527  0.3526  0.3526     111.00  0.000005   \n\n        low_value  test_dw_1  test_dw_2  \n0          0.4465          0        NaN  \n1          0.4467          0        NaN  \n2          0.4464          0        NaN  \n3          0.4460          0        NaN  \n4          0.4466          0        NaN  \n...           ...        ...        ...  \n918001     0.3525          0        0.0  \n918002     0.3524          0        0.0  \n918003     0.3525          0        0.0  \n918004     0.3527          0        0.0  \n918005     0.3526          0        0.0  \n\n[918006 rows x 10 columns]",
      "text/html": "<div>\n<style scoped>\n    .dataframe tbody tr th:only-of-type {\n        vertical-align: middle;\n    }\n\n    .dataframe tbody tr th {\n        vertical-align: top;\n    }\n\n    .dataframe thead th {\n        text-align: right;\n    }\n</style>\n<table border=\"1\" class=\"dataframe\">\n  <thead>\n    <tr style=\"text-align: right;\">\n      <th></th>\n      <th>date</th>\n      <th>open</th>\n      <th>high</th>\n      <th>low</th>\n      <th>close</th>\n      <th>volume</th>\n      <th>macdhist</th>\n      <th>low_value</th>\n      <th>test_dw_1</th>\n      <th>test_dw_2</th>\n    </tr>\n  </thead>\n  <tbody>\n    <tr>\n      <th>0</th>\n      <td>1609804800000</td>\n      <td>0.4465</td>\n      <td>0.4507</td>\n      <td>0.4463</td>\n      <td>0.4500</td>\n      <td>667946.65</td>\n      <td>NaN</td>\n      <td>0.4465</td>\n      <td>0</td>\n      <td>NaN</td>\n    </tr>\n    <tr>\n      <th>1</th>\n      <td>1609804860000</td>\n      <td>0.4496</td>\n      <td>0.4530</td>\n      <td>0.4435</td>\n      <td>0.4467</td>\n      <td>499775.21</td>\n      <td>NaN</td>\n      <td>0.4467</td>\n      <td>0</td>\n      <td>NaN</td>\n    </tr>\n    <tr>\n      <th>2</th>\n      <td>1609804920000</td>\n      <td>0.4471</td>\n      <td>0.4492</td>\n      <td>0.4455</td>\n      <td>0.4464</td>\n      <td>290446.52</td>\n      <td>NaN</td>\n      <td>0.4464</td>\n      <td>0</td>\n      <td>NaN</td>\n    </tr>\n    <tr>\n      <th>3</th>\n      <td>1609804980000</td>\n      <td>0.4460</td>\n      <td>0.4475</td>\n      <td>0.4424</td>\n      <td>0.4464</td>\n      <td>324858.12</td>\n      <td>NaN</td>\n      <td>0.4460</td>\n      <td>0</td>\n      <td>NaN</td>\n    </tr>\n    <tr>\n      <th>4</th>\n      <td>1609805040000</td>\n      <td>0.4466</td>\n      <td>0.4550</td>\n      <td>0.4445</td>\n      <td>0.4537</td>\n      <td>421508.95</td>\n      <td>NaN</td>\n      <td>0.4466</td>\n      <td>0</td>\n      <td>NaN</td>\n    </tr>\n    <tr>\n      <th>...</th>\n      <td>...</td>\n      <td>...</td>\n      <td>...</td>\n      <td>...</td>\n      <td>...</td>\n      <td>...</td>\n      <td>...</td>\n      <td>...</td>\n      <td>...</td>\n      <td>...</td>\n    </tr>\n    <tr>\n      <th>918001</th>\n      <td>1664944440000</td>\n      <td>0.3525</td>\n      <td>0.3525</td>\n      <td>0.3524</td>\n      <td>0.3525</td>\n      <td>5655.00</td>\n      <td>-0.000060</td>\n      <td>0.3525</td>\n      <td>0</td>\n      <td>0.0</td>\n    </tr>\n    <tr>\n      <th>918002</th>\n      <td>1664944500000</td>\n      <td>0.3524</td>\n      <td>0.3525</td>\n      <td>0.3524</td>\n      <td>0.3525</td>\n      <td>3878.00</td>\n      <td>-0.000047</td>\n      <td>0.3524</td>\n      <td>0</td>\n      <td>0.0</td>\n    </tr>\n    <tr>\n      <th>918003</th>\n      <td>1664944560000</td>\n      <td>0.3525</td>\n      <td>0.3526</td>\n      <td>0.3525</td>\n      <td>0.3526</td>\n      <td>18512.00</td>\n      <td>-0.000027</td>\n      <td>0.3525</td>\n      <td>0</td>\n      <td>0.0</td>\n    </tr>\n    <tr>\n      <th>918004</th>\n      <td>1664944620000</td>\n      <td>0.3527</td>\n      <td>0.3528</td>\n      <td>0.3527</td>\n      <td>0.3527</td>\n      <td>3693.00</td>\n      <td>-0.000005</td>\n      <td>0.3527</td>\n      <td>0</td>\n      <td>0.0</td>\n    </tr>\n    <tr>\n      <th>918005</th>\n      <td>1664944680000</td>\n      <td>0.3527</td>\n      <td>0.3527</td>\n      <td>0.3526</td>\n      <td>0.3526</td>\n      <td>111.00</td>\n      <td>0.000005</td>\n      <td>0.3526</td>\n      <td>0</td>\n      <td>0.0</td>\n    </tr>\n  </tbody>\n</table>\n<p>918006 rows × 10 columns</p>\n</div>"
     },
     "execution_count": 33,
     "metadata": {},
     "output_type": "execute_result"
    }
   ],
   "source": [
    "df_json['test_dw_1'] = res_test2\n",
    "df_json['test_dw_2'] = df_test\n",
    "df_json"
   ],
   "metadata": {
    "collapsed": false
   }
  },
  {
   "cell_type": "code",
   "execution_count": 41,
   "outputs": [
    {
     "name": "stdout",
     "output_type": "stream",
     "text": [
      "[  6   5  -3   0  -9  -5  -3  -7 -10 -10  -9  -5   5  -4  -6   5  -3   3\n",
      "   5   3]\n",
      "[ 2  4  5  6  7  8  9 10 11 13 14 16]\n",
      "\n"
     ]
    }
   ],
   "source": [
    "# x = PrettyTable()\n",
    "a = np.random.randint(-10, 10, 20)\n",
    "# x.add_row([i for i in range(20)])\n",
    "# x.add_row(a)\n",
    "# print(x)\n",
    "# print([i for i in range(20)])\n",
    "print(a)\n",
    "# print(a[:-1])\n",
    "ind_neg = np.where(a < 0)[0]\n",
    "# print(b, a[b])\n",
    "# ind_neg = b[0]\n",
    "print(ind_neg)\n",
    "\n",
    "print()"
   ],
   "metadata": {
    "collapsed": false
   }
  },
  {
   "cell_type": "code",
   "execution_count": 43,
   "outputs": [
    {
     "name": "stdout",
     "output_type": "stream",
     "text": [
      "-3 -3\n",
      "[-3] -3\n",
      "-4 -6\n",
      "[-4 -6] -6\n",
      "-9 -5\n",
      "[ -9  -5  -3  -7 -10 -10  -9  -5] -10\n",
      "-3 -3\n",
      "[-3] -3\n",
      "4 4\n"
     ]
    }
   ],
   "source": [
    "for k in range(-1, -len(ind_neg[ind_left])-1, -1):\n",
    "    print(a[ind_neg[ind_left]][k], a[ind_neg[ind_right]][k])\n",
    "    print(a[ind_neg[ind_left][k]:ind_neg[ind_right][k]+1], np.min(a[ind_neg[ind_left][k]:ind_neg[ind_right][k]+1]))\n",
    "\n",
    "print(len(ind_neg[ind_left]), len(ind_neg[ind_right]))"
   ],
   "metadata": {
    "collapsed": false
   }
  },
  {
   "cell_type": "code",
   "execution_count": 42,
   "outputs": [
    {
     "name": "stdout",
     "output_type": "stream",
     "text": [
      "[ 0  8 10 11]\n",
      "[ 2 11 14 16]\n",
      "[-3 -5 -6 -3]\n",
      "[ 0  1  9 11]\n",
      "[ 2  4 13 16]\n",
      "[-3 -9 -4 -3]\n",
      "\n"
     ]
    }
   ],
   "source": [
    "\n",
    "ind_right = np.where((ind_neg[1:] - ind_neg[:-1]) > 1)\n",
    "ind_right = np.concatenate([ind_right[0], [len(ind_neg)-1]])\n",
    "print(ind_right)\n",
    "print(ind_neg[ind_right])\n",
    "print(a[ind_neg[ind_right]])\n",
    "\n",
    "ind_left = ind_right[:-1] + 1\n",
    "ind_left = np.concatenate([[0], ind_left])\n",
    "print(ind_left)\n",
    "print(ind_neg[ind_left])\n",
    "print(a[ind_neg[ind_left]])\n",
    "\n",
    "print()\n",
    "\n",
    "\n",
    "# print()\n",
    "# ind_left = ind_right[0] - 1\n",
    "# if ind_left[0] < 0:\n",
    "#     ind_left[0] = 0\n",
    "# print(ind_left)\n",
    "# print(c[ind_left])\n",
    "# print(a[c[ind_left]])\n"
   ],
   "metadata": {
    "collapsed": false
   }
  }
 ],
 "metadata": {
  "kernelspec": {
   "display_name": "Python 3",
   "language": "python",
   "name": "python3"
  },
  "language_info": {
   "codemirror_mode": {
    "name": "ipython",
    "version": 2
   },
   "file_extension": ".py",
   "mimetype": "text/x-python",
   "name": "python",
   "nbconvert_exporter": "python",
   "pygments_lexer": "ipython2",
   "version": "2.7.6"
  }
 },
 "nbformat": 4,
 "nbformat_minor": 0
}
